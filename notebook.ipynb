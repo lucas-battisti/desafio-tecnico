{
 "cells": [
  {
   "cell_type": "markdown",
   "id": "79df9288",
   "metadata": {},
   "source": [
    "* **Bibliotecas:**"
   ]
  },
  {
   "cell_type": "code",
   "execution_count": 167,
   "id": "d51764fe",
   "metadata": {},
   "outputs": [],
   "source": [
    "import pandas as pd\n",
    "import numpy as np\n",
    "\n",
    "from pandasql import sqldf\n",
    "# Atalho para query\n",
    "pysqldf = lambda q: sqldf(q, globals())"
   ]
  },
  {
   "cell_type": "markdown",
   "id": "8970abfd",
   "metadata": {},
   "source": [
    "---"
   ]
  },
  {
   "cell_type": "markdown",
   "id": "0ed59c8d",
   "metadata": {},
   "source": [
    "# Atividade 1:"
   ]
  },
  {
   "cell_type": "markdown",
   "id": "0eb48868",
   "metadata": {},
   "source": [
    "* **Importando as bases de dados:**"
   ]
  },
  {
   "cell_type": "code",
   "execution_count": 168,
   "id": "edfae7db",
   "metadata": {},
   "outputs": [],
   "source": [
    "df_full = pd.read_csv('campeonato-brasileiro-full.csv')\n",
    "df_estat = pd.read_csv('campeonato-brasileiro-estatisticas-full.csv')\n",
    "df_cartoes = pd.read_csv('campeonato-brasileiro-cartoes.csv')\n",
    "df_gols = pd.read_csv('campeonato-brasileiro-gols.csv')"
   ]
  },
  {
   "cell_type": "markdown",
   "id": "9a50b98f",
   "metadata": {},
   "source": [
    "Para garantir a consistência entre as bases de dados, irei manter apenas as partidas presentes em todas as bases."
   ]
  },
  {
   "cell_type": "code",
   "execution_count": 169,
   "id": "74e68bfb",
   "metadata": {},
   "outputs": [],
   "source": [
    "# Query para obter os ids em comum das partidas\n",
    "query = \"\"\"\n",
    "    SELECT DISTINCT \n",
    "        f.ID AS partida_id_comuns\n",
    "    FROM \n",
    "        df_full AS f\n",
    "    INNER JOIN \n",
    "        df_estat AS e \n",
    "        ON f.ID = e.partida_id\n",
    "    INNER JOIN \n",
    "        df_cartoes AS c \n",
    "        ON f.ID = c.partida_id\n",
    "    INNER JOIN \n",
    "        df_gols AS g \n",
    "        ON f.ID = g.partida_id\n",
    "\"\"\"\n",
    "ids_comuns_df = pysqldf(query)\n",
    "\n",
    "# Convertido para lista para filtrar partidas com .isin()\n",
    "ids_comuns = ids_comuns_df['partida_id_comuns'].tolist()\n",
    "\n",
    "# Filtrando partidas compatíveis\n",
    "df_full = df_full[df_full['ID'].isin(ids_comuns)]\n",
    "df_estato = df_estat[df_estat['partida_id'].isin(ids_comuns)]\n",
    "df_cartoes = df_cartoes[df_cartoes['partida_id'].isin(ids_comuns)]\n",
    "df_gols = df_gols[df_gols['partida_id'].isin(ids_comuns)]"
   ]
  },
  {
   "cell_type": "markdown",
   "id": "10fce599",
   "metadata": {},
   "source": [
    "## Base de dados `full`: "
   ]
  },
  {
   "cell_type": "markdown",
   "id": "232b73e8",
   "metadata": {},
   "source": [
    "|       Coluna       |           Tipo          |\n",
    "|:------------------:|:-----------------------:|\n",
    "| ID                 | _int_                   |\n",
    "| rodata             | _int_                   |\n",
    "| data               | _datetime_ (dd/mm/aaaa) |\n",
    "| hora               | _datetime_ (hh:mm)      |\n",
    "| mandante           | _string_                |\n",
    "| visitante          | _string_                |\n",
    "| formacao_mandante  | _string_                |\n",
    "| formacao_visitante | _string_                |\n",
    "| vencedor           | _string_                |\n",
    "| mandante_Placar    | _int_                   |\n",
    "| visitante_Placar   | _int_                   |\n",
    "\n",
    "As colunas `tecnico_mandante`, `tecnico_visitante`, `mandante_Estado`, `visitante_Estado` e `arena` foram removidas por serem irrelevantes para a análise proposta."
   ]
  },
  {
   "cell_type": "markdown",
   "id": "8a6df7bd",
   "metadata": {},
   "source": [
    "* **Convertendo tipos de colunas no DataFrame `full`**:"
   ]
  },
  {
   "cell_type": "code",
   "execution_count": 170,
   "id": "2bd82c1e",
   "metadata": {},
   "outputs": [],
   "source": [
    "# Removendo colunas\n",
    "df_full = df_full.drop(columns=\n",
    "                       ['tecnico_mandante', 'tecnico_visitante',\n",
    "                        'mandante_Estado', 'visitante_Estado', 'arena'])\n",
    "\n",
    "# Int\n",
    "df_full['ID'] = df_full['ID'].astype(int)\n",
    "df_full['rodata'] = df_full['rodata'].astype(int)\n",
    "df_full['mandante_Placar'] = df_full['mandante_Placar'].astype(int)\n",
    "df_full['visitante_Placar'] = df_full['visitante_Placar'].astype(int)\n",
    "\n",
    "# Datetime\n",
    "df_full['data'] = pd.to_datetime(df_full['data'], format='%d/%m/%Y')\n",
    "df_full['hora'] = pd.to_datetime(df_full['hora'], format='%H:%M', errors='coerce').dt.time\n",
    "\n",
    "# Strings\n",
    "df_full['mandante'] = df_full['mandante'].astype('string')\n",
    "df_full['visitante'] = df_full['visitante'].astype('string')\n",
    "df_full['formacao_mandante'] = df_full['formacao_mandante'].astype('string')\n",
    "df_full['formacao_visitante'] = df_full['formacao_visitante'].astype('string')\n",
    "df_full['vencedor'] = df_full['vencedor'].astype('string')\n"
   ]
  },
  {
   "cell_type": "markdown",
   "id": "46e9262b",
   "metadata": {},
   "source": [
    "* **Verificando proporção de NaN nas colunas:**"
   ]
  },
  {
   "cell_type": "code",
   "execution_count": 171,
   "id": "f3230f4b",
   "metadata": {},
   "outputs": [
    {
     "data": {
      "text/html": [
       "<div>\n",
       "<style scoped>\n",
       "    .dataframe tbody tr th:only-of-type {\n",
       "        vertical-align: middle;\n",
       "    }\n",
       "\n",
       "    .dataframe tbody tr th {\n",
       "        vertical-align: top;\n",
       "    }\n",
       "\n",
       "    .dataframe thead th {\n",
       "        text-align: right;\n",
       "    }\n",
       "</style>\n",
       "<table border=\"1\" class=\"dataframe\">\n",
       "  <thead>\n",
       "    <tr style=\"text-align: right;\">\n",
       "      <th></th>\n",
       "      <th>proporção de NaN</th>\n",
       "    </tr>\n",
       "  </thead>\n",
       "  <tbody>\n",
       "    <tr>\n",
       "      <th>formacao_mandante</th>\n",
       "      <td>0.087743</td>\n",
       "    </tr>\n",
       "    <tr>\n",
       "      <th>formacao_visitante</th>\n",
       "      <td>0.087743</td>\n",
       "    </tr>\n",
       "  </tbody>\n",
       "</table>\n",
       "</div>"
      ],
      "text/plain": [
       "                    proporção de NaN\n",
       "formacao_mandante           0.087743\n",
       "formacao_visitante          0.087743"
      ]
     },
     "execution_count": 171,
     "metadata": {},
     "output_type": "execute_result"
    }
   ],
   "source": [
    "# Função que retorna dataframe com proporção de NaN por coluna\n",
    "def NaN_prop(df):\n",
    "    df_prop = df.isna().mean().to_frame('proporção de NaN')\n",
    "    df_prop = df_prop[df_prop['proporção de NaN'] > 0]  # apenas colunas que tem NaN\n",
    "    return df_prop\n",
    "\n",
    "NaN_prop(df_full)"
   ]
  },
  {
   "cell_type": "code",
   "execution_count": 172,
   "id": "ca417283",
   "metadata": {},
   "outputs": [
    {
     "name": "stdout",
     "output_type": "stream",
     "text": [
      "     formacao_mandante formacao_visitante\n",
      "4606              <NA>               <NA>\n",
      "4607              <NA>               <NA>\n",
      "4611              <NA>               <NA>\n",
      "4610              <NA>               <NA>\n",
      "4609              <NA>               <NA>\n",
      "...                ...                ...\n",
      "8783           4-2-3-1          4-1-2-1-2\n",
      "8778             4-3-3            4-3-2-1\n",
      "8780             4-3-3            4-3-2-1\n",
      "8781           4-2-3-1            4-2-3-1\n",
      "8784             4-4-2            4-3-1-2\n",
      "\n",
      "[3761 rows x 2 columns]\n"
     ]
    }
   ],
   "source": [
    "# Tabela com as colunas que tem dados faltantes\n",
    "print(df_full.sort_values('ID')[['formacao_mandante', 'formacao_visitante']])"
   ]
  },
  {
   "cell_type": "markdown",
   "id": "1d6b6714",
   "metadata": {},
   "source": [
    "Observa-se que os dados faltantes na variável de formação ocorrem porque, nos primeiros campeonatos, essa informação não era registrada. Dessa forma, não existe maneira de inputar esses dados. Além disso, a quantidade de valores ausentes é pequena, Inicialmente, opta-se por manter os dados faltantes."
   ]
  },
  {
   "cell_type": "markdown",
   "id": "788c84e8",
   "metadata": {},
   "source": [
    "## Base de dados `estat`: "
   ]
  },
  {
   "cell_type": "markdown",
   "id": "5424c1e4",
   "metadata": {},
   "source": [
    "|      Coluna       |          Tipo           |\n",
    "|:-----------------:|:-----------------------:|\n",
    "| partida_id        | _int_                   |\n",
    "| rodata            | _int_                   |\n",
    "| clube             | _string_                |\n",
    "| chutes            | _int_                   |\n",
    "| chutes_no_alvo    | _int_                   |\n",
    "| posse_de_bola     | _float_  |\n",
    "| passes            | _int_                   |\n",
    "| precisao_passes   | _float_   |\n",
    "| faltas            | _int_                   |\n",
    "| cartao_amarelo    | _int_                   |\n",
    "| cartao_vermelho   | _int_                   |\n",
    "| impedimentos      | _int_                   |\n",
    "| escanteios        | _int_                   |\n",
    "\n"
   ]
  },
  {
   "cell_type": "markdown",
   "id": "e5cb6f2e",
   "metadata": {},
   "source": [
    "* **Convertendo tipos de colunas no DataFrame `estat`**:"
   ]
  },
  {
   "cell_type": "code",
   "execution_count": 173,
   "id": "224f378c",
   "metadata": {},
   "outputs": [],
   "source": [
    "# Int\n",
    "df_estat['partida_id'] = df_estat['partida_id'].astype(int)\n",
    "df_estat['rodata'] = df_estat['rodata'].astype(int)\n",
    "df_estat['chutes'] = df_estat['chutes'].astype(int)\n",
    "df_estat['chutes_no_alvo'] = df_estat['chutes_no_alvo'].astype(int)\n",
    "df_estat['passes'] = df_estat['passes'].astype(int)\n",
    "df_estat['faltas'] = df_estat['faltas'].astype(int)\n",
    "df_estat['cartao_amarelo'] = df_estat['cartao_amarelo'].astype(int)\n",
    "df_estat['cartao_vermelho'] = df_estat['cartao_vermelho'].astype(int)\n",
    "df_estat['impedimentos'] = df_estat['impedimentos'].astype(int)\n",
    "df_estat['escanteios'] = df_estat['escanteios'].astype(int)\n",
    "\n",
    "# Strings\n",
    "df_estat['clube'] = df_estat['clube'].astype('string')\n",
    "\n",
    "# Convertendo percentuais para float\n",
    "df_estat['posse_de_bola'] = df_estat['posse_de_bola'].str.replace('%', '', regex=False) # remove '%'\n",
    "df_estat['posse_de_bola'] = df_estat['posse_de_bola'].astype(float)/100 # divide por 100\n",
    "\n",
    "df_estat['precisao_passes'] = df_estat['precisao_passes'].str.replace('%', '', regex=False) # remove '%'\n",
    "df_estat['precisao_passes'] = df_estat['precisao_passes'].astype(float)/100 # divide por 100"
   ]
  },
  {
   "cell_type": "code",
   "execution_count": 174,
   "id": "83272c98",
   "metadata": {},
   "outputs": [
    {
     "data": {
      "text/html": [
       "<div>\n",
       "<style scoped>\n",
       "    .dataframe tbody tr th:only-of-type {\n",
       "        vertical-align: middle;\n",
       "    }\n",
       "\n",
       "    .dataframe tbody tr th {\n",
       "        vertical-align: top;\n",
       "    }\n",
       "\n",
       "    .dataframe thead th {\n",
       "        text-align: right;\n",
       "    }\n",
       "</style>\n",
       "<table border=\"1\" class=\"dataframe\">\n",
       "  <thead>\n",
       "    <tr style=\"text-align: right;\">\n",
       "      <th></th>\n",
       "      <th>proporção de NaN</th>\n",
       "    </tr>\n",
       "  </thead>\n",
       "  <tbody>\n",
       "    <tr>\n",
       "      <th>posse_de_bola</th>\n",
       "      <td>0.611838</td>\n",
       "    </tr>\n",
       "    <tr>\n",
       "      <th>precisao_passes</th>\n",
       "      <td>0.743199</td>\n",
       "    </tr>\n",
       "  </tbody>\n",
       "</table>\n",
       "</div>"
      ],
      "text/plain": [
       "                 proporção de NaN\n",
       "posse_de_bola            0.611838\n",
       "precisao_passes          0.743199"
      ]
     },
     "execution_count": 174,
     "metadata": {},
     "output_type": "execute_result"
    }
   ],
   "source": [
    "NaN_prop(df_estat)"
   ]
  },
  {
   "cell_type": "markdown",
   "id": "87345b1d",
   "metadata": {},
   "source": [
    "Novamente a presença de dados faltantes é causado pela falta de registro dessas informações em parte das partidas. Isso torna difícil inputar esses dados. Além disso, é importante destacar que a quantidade de valores ausentes é muito grande. Inicialmente, opta-se por manter os dados faltantes."
   ]
  },
  {
   "cell_type": "markdown",
   "id": "6cc8899c",
   "metadata": {},
   "source": [
    "## Base de dados `cartoes`: "
   ]
  },
  {
   "cell_type": "markdown",
   "id": "492d24cc",
   "metadata": {},
   "source": [
    "|     Coluna     |           Tipo           |\n",
    "|:--------------:|:------------------------:|\n",
    "| partida_id     | _int_                    |\n",
    "| rodata         | _int_                    |\n",
    "| clube          | _string_                 |\n",
    "| cartao         | _string_                 |\n",
    "| atleta         | _string_                 |\n",
    "\n",
    "As colunas `num_camisa`, `posicao` e `minuto` foram removidas por serem irrelevantes para a análise proposta."
   ]
  },
  {
   "cell_type": "markdown",
   "id": "162e059a",
   "metadata": {},
   "source": [
    "* **Convertendo tipos de colunas no DataFrame `cartoes`**:"
   ]
  },
  {
   "cell_type": "code",
   "execution_count": 175,
   "id": "de814863",
   "metadata": {},
   "outputs": [],
   "source": [
    "# Removendo colunas\n",
    "df_cartoes = df_cartoes.drop(columns=\n",
    "                             ['num_camisa', 'posicao', 'minuto'])\n",
    "\n",
    "# Int\n",
    "df_cartoes['partida_id'] = df_cartoes['partida_id'].astype(int)\n",
    "df_cartoes['rodata'] = df_cartoes['rodata'].astype(int)\n",
    "\n",
    "# Strings\n",
    "df_cartoes['clube'] = df_cartoes['clube'].astype('string')\n",
    "df_cartoes['cartao'] = df_cartoes['cartao'].astype('string')\n",
    "df_cartoes['atleta'] = df_cartoes['atleta'].astype('string')"
   ]
  },
  {
   "cell_type": "code",
   "execution_count": 176,
   "id": "65c4ca3d",
   "metadata": {},
   "outputs": [
    {
     "data": {
      "text/html": [
       "<div>\n",
       "<style scoped>\n",
       "    .dataframe tbody tr th:only-of-type {\n",
       "        vertical-align: middle;\n",
       "    }\n",
       "\n",
       "    .dataframe tbody tr th {\n",
       "        vertical-align: top;\n",
       "    }\n",
       "\n",
       "    .dataframe thead th {\n",
       "        text-align: right;\n",
       "    }\n",
       "</style>\n",
       "<table border=\"1\" class=\"dataframe\">\n",
       "  <thead>\n",
       "    <tr style=\"text-align: right;\">\n",
       "      <th></th>\n",
       "      <th>proporção de NaN</th>\n",
       "    </tr>\n",
       "  </thead>\n",
       "  <tbody>\n",
       "    <tr>\n",
       "      <th>atleta</th>\n",
       "      <td>0.000312</td>\n",
       "    </tr>\n",
       "  </tbody>\n",
       "</table>\n",
       "</div>"
      ],
      "text/plain": [
       "        proporção de NaN\n",
       "atleta          0.000312"
      ]
     },
     "execution_count": 176,
     "metadata": {},
     "output_type": "execute_result"
    }
   ],
   "source": [
    "NaN_prop(df_cartoes)"
   ]
  },
  {
   "cell_type": "code",
   "execution_count": 177,
   "id": "9745a45c",
   "metadata": {},
   "outputs": [
    {
     "name": "stdout",
     "output_type": "stream",
     "text": [
      "       partida_id  rodata          clube    cartao atleta\n",
      "8471         6303      20        Vitoria   Amarelo   <NA>\n",
      "8966         6420      30        Vitoria   Amarelo   <NA>\n",
      "12359        7124      24  Internacional   Amarelo   <NA>\n",
      "13102        7291       3  Internacional  Vermelho   <NA>\n",
      "13174        7309       5  Internacional   Amarelo   <NA>\n",
      "13281        7332       7  Internacional   Amarelo   <NA>\n"
     ]
    }
   ],
   "source": [
    "print(df_cartoes[df_cartoes['atleta'].isna()])"
   ]
  },
  {
   "cell_type": "markdown",
   "id": "c2b8f78a",
   "metadata": {},
   "source": [
    "Apenas seis registros apresentam o nome do atleta como dado faltante. Como essa informação não é tão essencial, e não faz sentido inputar ou excluir esses registros, opta-se por manter os dados faltantes."
   ]
  },
  {
   "cell_type": "markdown",
   "id": "9f08b0e6",
   "metadata": {},
   "source": [
    "## Base de dados `gols`: "
   ]
  },
  {
   "cell_type": "markdown",
   "id": "c18b0a58",
   "metadata": {},
   "source": [
    "|     Coluna     |         Tipo         |\n",
    "|:--------------:|:--------------------:|\n",
    "| partida_id     | _int_                |\n",
    "| rodata         | _int_                |\n",
    "| clube          | _string_             |\n",
    "| atleta         | _string_             |\n",
    "| minuto         | _int_     |\n",
    "| acrescimo | _int_ |\n",
    "| tipo_de_gol    | _string_ (classificação) |\n",
    "\n",
    "A variável `acrescimo` foi criada para quando o gol foi feito durante o tempo de acrescimo de um  d"
   ]
  },
  {
   "cell_type": "code",
   "execution_count": 178,
   "id": "a0918c8f",
   "metadata": {},
   "outputs": [
    {
     "data": {
      "text/plain": [
       "partida_id      int64\n",
       "rodata          int64\n",
       "clube          object\n",
       "atleta         object\n",
       "minuto         object\n",
       "tipo_de_gol    object\n",
       "dtype: object"
      ]
     },
     "execution_count": 178,
     "metadata": {},
     "output_type": "execute_result"
    }
   ],
   "source": [
    "df_gols.dtypes"
   ]
  }
 ],
 "metadata": {
  "kernelspec": {
   "display_name": "desafio-tecnico",
   "language": "python",
   "name": "python3"
  },
  "language_info": {
   "codemirror_mode": {
    "name": "ipython",
    "version": 3
   },
   "file_extension": ".py",
   "mimetype": "text/x-python",
   "name": "python",
   "nbconvert_exporter": "python",
   "pygments_lexer": "ipython3",
   "version": "3.12.11"
  }
 },
 "nbformat": 4,
 "nbformat_minor": 5
}
