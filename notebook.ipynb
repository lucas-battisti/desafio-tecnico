{
 "cells": [
  {
   "cell_type": "markdown",
   "id": "79df9288",
   "metadata": {},
   "source": [
    "* **Bibliotecas:**"
   ]
  },
  {
   "cell_type": "code",
   "execution_count": 52,
   "id": "d51764fe",
   "metadata": {},
   "outputs": [],
   "source": [
    "import pandas as pd\n",
    "import numpy as np\n",
    "\n",
    "from pandasql import sqldf\n",
    "# Atalho para query\n",
    "pysqldf = lambda q: sqldf(q, globals())\n",
    "\n",
    "import seaborn as sns\n",
    "import matplotlib.pyplot as plt"
   ]
  },
  {
   "cell_type": "markdown",
   "id": "8970abfd",
   "metadata": {},
   "source": [
    "---"
   ]
  },
  {
   "cell_type": "markdown",
   "id": "0ed59c8d",
   "metadata": {},
   "source": [
    "# Atividade 1:"
   ]
  },
  {
   "cell_type": "markdown",
   "id": "0eb48868",
   "metadata": {},
   "source": [
    "* **Importando as bases de dados:**"
   ]
  },
  {
   "cell_type": "code",
   "execution_count": 53,
   "id": "edfae7db",
   "metadata": {},
   "outputs": [],
   "source": [
    "df_full = pd.read_csv('campeonato-brasileiro-full.csv')\n",
    "df_estat = pd.read_csv('campeonato-brasileiro-estatisticas-full.csv')\n",
    "df_cartoes = pd.read_csv('campeonato-brasileiro-cartoes.csv')\n",
    "df_gols = pd.read_csv('campeonato-brasileiro-gols.csv')"
   ]
  },
  {
   "cell_type": "markdown",
   "id": "9a50b98f",
   "metadata": {},
   "source": [
    "Para garantir a consistência entre as bases de dados, irei manter apenas as partidas presentes em todas as bases."
   ]
  },
  {
   "cell_type": "code",
   "execution_count": 54,
   "id": "74e68bfb",
   "metadata": {},
   "outputs": [],
   "source": [
    "# Query para obter os ids em comum das partidas\n",
    "query = \"\"\"\n",
    "SELECT DISTINCT \n",
    "    full.ID AS partida_id_comuns\n",
    "FROM \n",
    "    df_full AS full\n",
    "INNER JOIN \n",
    "    df_estat AS estat\n",
    "    ON full.ID = estat.partida_id\n",
    "INNER JOIN \n",
    "    df_cartoes AS cartoes\n",
    "    ON full.ID = cartoes.partida_id\n",
    "INNER JOIN \n",
    "    df_gols AS gols\n",
    "    ON full.ID = gols.partida_id\n",
    "\"\"\"\n",
    "ids_comuns_df = pysqldf(query)\n",
    "\n",
    "# Convertido para lista para filtrar partidas com .isin()\n",
    "ids_comuns = ids_comuns_df['partida_id_comuns'].tolist()\n",
    "\n",
    "# Filtrando partidas compatíveis\n",
    "df_full = df_full[df_full['ID'].isin(ids_comuns)]\n",
    "df_estat = df_estat[df_estat['partida_id'].isin(ids_comuns)]\n",
    "df_cartoes = df_cartoes[df_cartoes['partida_id'].isin(ids_comuns)]\n",
    "df_gols = df_gols[df_gols['partida_id'].isin(ids_comuns)]"
   ]
  },
  {
   "cell_type": "markdown",
   "id": "10fce599",
   "metadata": {},
   "source": [
    "## Base de dados `full`: "
   ]
  },
  {
   "cell_type": "markdown",
   "id": "232b73e8",
   "metadata": {},
   "source": [
    "|       Coluna       |           Tipo          |\n",
    "|:------------------:|:-----------------------:|\n",
    "| ID                 | _int_                   |\n",
    "| rodata             | _int_                   |\n",
    "| data               | _datetime_ (dd/mm/aaaa) |\n",
    "| hora               | _datetime_ (hh:mm)      |\n",
    "| mandante           | _string_                |\n",
    "| visitante          | _string_                |\n",
    "| formacao_mandante  | _string_                |\n",
    "| formacao_visitante | _string_                |\n",
    "| vencedor           | _string_                |\n",
    "| mandante_Placar    | _int_                   |\n",
    "| visitante_Placar   | _int_                   |\n",
    "\n",
    "As colunas `tecnico_mandante`, `tecnico_visitante`, `mandante_Estado`, `visitante_Estado` e `arena` foram removidas por serem irrelevantes."
   ]
  },
  {
   "cell_type": "markdown",
   "id": "8a6df7bd",
   "metadata": {},
   "source": [
    "* **Convertendo tipos de colunas no DataFrame `full`**:"
   ]
  },
  {
   "cell_type": "code",
   "execution_count": 55,
   "id": "2bd82c1e",
   "metadata": {},
   "outputs": [],
   "source": [
    "# Removendo colunas\n",
    "df_full = df_full.drop(columns=\n",
    "                       ['tecnico_mandante', 'tecnico_visitante',\n",
    "                        'mandante_Estado', 'visitante_Estado', 'arena'])\n",
    "\n",
    "# Int\n",
    "df_full['ID'] = df_full['ID'].astype(int)\n",
    "df_full['rodata'] = df_full['rodata'].astype(int)\n",
    "df_full['mandante_Placar'] = df_full['mandante_Placar'].astype(int)\n",
    "df_full['visitante_Placar'] = df_full['visitante_Placar'].astype(int)\n",
    "\n",
    "# Datetime\n",
    "df_full['data'] = pd.to_datetime(df_full['data'], format='%d/%m/%Y')\n",
    "df_full['hora'] = pd.to_datetime(df_full['hora'], format='%H:%M', errors='coerce').dt.time\n",
    "\n",
    "# Strings\n",
    "df_full['mandante'] = df_full['mandante'].astype('string')\n",
    "df_full['visitante'] = df_full['visitante'].astype('string')\n",
    "df_full['formacao_mandante'] = df_full['formacao_mandante'].astype('string')\n",
    "df_full['formacao_visitante'] = df_full['formacao_visitante'].astype('string')\n",
    "df_full['vencedor'] = df_full['vencedor'].astype('string')"
   ]
  },
  {
   "cell_type": "markdown",
   "id": "46e9262b",
   "metadata": {},
   "source": [
    "* **Verificando proporção de NaN nas colunas:**"
   ]
  },
  {
   "cell_type": "code",
   "execution_count": 56,
   "id": "f3230f4b",
   "metadata": {},
   "outputs": [
    {
     "data": {
      "text/html": [
       "<div>\n",
       "<style scoped>\n",
       "    .dataframe tbody tr th:only-of-type {\n",
       "        vertical-align: middle;\n",
       "    }\n",
       "\n",
       "    .dataframe tbody tr th {\n",
       "        vertical-align: top;\n",
       "    }\n",
       "\n",
       "    .dataframe thead th {\n",
       "        text-align: right;\n",
       "    }\n",
       "</style>\n",
       "<table border=\"1\" class=\"dataframe\">\n",
       "  <thead>\n",
       "    <tr style=\"text-align: right;\">\n",
       "      <th></th>\n",
       "      <th>proporção de NaN</th>\n",
       "    </tr>\n",
       "  </thead>\n",
       "  <tbody>\n",
       "    <tr>\n",
       "      <th>formacao_mandante</th>\n",
       "      <td>0.087743</td>\n",
       "    </tr>\n",
       "    <tr>\n",
       "      <th>formacao_visitante</th>\n",
       "      <td>0.087743</td>\n",
       "    </tr>\n",
       "  </tbody>\n",
       "</table>\n",
       "</div>"
      ],
      "text/plain": [
       "                    proporção de NaN\n",
       "formacao_mandante           0.087743\n",
       "formacao_visitante          0.087743"
      ]
     },
     "execution_count": 56,
     "metadata": {},
     "output_type": "execute_result"
    }
   ],
   "source": [
    "# Função que retorna dataframe com proporção de NaN por coluna\n",
    "def NaN_prop(df: pd.DataFrame) -> pd.DataFrame:\n",
    "    df_prop = df.isna().mean().to_frame('proporção de NaN')\n",
    "    df_prop = df_prop[df_prop['proporção de NaN'] > 0]  # apenas colunas que tem NaN\n",
    "    return df_prop\n",
    "\n",
    "NaN_prop(df_full)"
   ]
  },
  {
   "cell_type": "code",
   "execution_count": 57,
   "id": "ca417283",
   "metadata": {},
   "outputs": [
    {
     "name": "stdout",
     "output_type": "stream",
     "text": [
      "     formacao_mandante formacao_visitante\n",
      "4606              <NA>               <NA>\n",
      "4607              <NA>               <NA>\n",
      "4611              <NA>               <NA>\n",
      "4610              <NA>               <NA>\n",
      "4609              <NA>               <NA>\n",
      "...                ...                ...\n",
      "8783           4-2-3-1          4-1-2-1-2\n",
      "8778             4-3-3            4-3-2-1\n",
      "8780             4-3-3            4-3-2-1\n",
      "8781           4-2-3-1            4-2-3-1\n",
      "8784             4-4-2            4-3-1-2\n",
      "\n",
      "[3761 rows x 2 columns]\n"
     ]
    }
   ],
   "source": [
    "# Tabela com as colunas que tem dados faltantes\n",
    "print(df_full.sort_values('ID')[['formacao_mandante', 'formacao_visitante']])"
   ]
  },
  {
   "cell_type": "markdown",
   "id": "1d6b6714",
   "metadata": {},
   "source": [
    "Observa-se que os dados faltantes na variável de formação ocorrem porque, nos primeiros campeonatos, essa informação não era registrada. Dessa forma, não existe maneira de inputar esses dados. Além disso, a quantidade de valores ausentes é pequena, Inicialmente, opta-se por manter os dados faltantes."
   ]
  },
  {
   "cell_type": "markdown",
   "id": "788c84e8",
   "metadata": {},
   "source": [
    "## Base de dados `estat`: "
   ]
  },
  {
   "cell_type": "markdown",
   "id": "5424c1e4",
   "metadata": {},
   "source": [
    "|      Coluna       |          Tipo           |\n",
    "|:-----------------:|:-----------------------:|\n",
    "| partida_id        | _int_                   |\n",
    "| rodata            | _int_                   |\n",
    "| clube             | _string_                |\n",
    "| chutes            | _int_                   |\n",
    "| chutes_no_alvo    | _int_                   |\n",
    "| posse_de_bola     | _float_  |\n",
    "| passes            | _int_                   |\n",
    "| precisao_passes   | _float_   |\n",
    "| faltas            | _int_                   |\n",
    "| cartao_amarelo    | _int_                   |\n",
    "| cartao_vermelho   | _int_                   |\n",
    "| impedimentos      | _int_                   |\n",
    "| escanteios        | _int_                   |\n",
    "\n"
   ]
  },
  {
   "cell_type": "markdown",
   "id": "e5cb6f2e",
   "metadata": {},
   "source": [
    "* **Convertendo tipos de colunas no DataFrame `estat`**:"
   ]
  },
  {
   "cell_type": "code",
   "execution_count": 58,
   "id": "224f378c",
   "metadata": {},
   "outputs": [],
   "source": [
    "# Int\n",
    "df_estat['partida_id'] = df_estat['partida_id'].astype(int)\n",
    "df_estat['rodata'] = df_estat['rodata'].astype(int)\n",
    "df_estat['chutes'] = df_estat['chutes'].astype(int)\n",
    "df_estat['chutes_no_alvo'] = df_estat['chutes_no_alvo'].astype(int)\n",
    "df_estat['passes'] = df_estat['passes'].astype(int)\n",
    "df_estat['faltas'] = df_estat['faltas'].astype(int)\n",
    "df_estat['cartao_amarelo'] = df_estat['cartao_amarelo'].astype(int)\n",
    "df_estat['cartao_vermelho'] = df_estat['cartao_vermelho'].astype(int)\n",
    "df_estat['impedimentos'] = df_estat['impedimentos'].astype(int)\n",
    "df_estat['escanteios'] = df_estat['escanteios'].astype(int)\n",
    "\n",
    "# Strings\n",
    "df_estat['clube'] = df_estat['clube'].astype('string')\n",
    "\n",
    "# Convertendo percentuais para float\n",
    "df_estat['posse_de_bola'] = df_estat['posse_de_bola'].str.replace('%', '', regex=False) # remove '%'\n",
    "df_estat['posse_de_bola'] = df_estat['posse_de_bola'].astype(float)/100 # divide por 100\n",
    "\n",
    "df_estat['precisao_passes'] = df_estat['precisao_passes'].str.replace('%', '', regex=False) # remove '%'\n",
    "df_estat['precisao_passes'] = df_estat['precisao_passes'].astype(float)/100 # divide por 100"
   ]
  },
  {
   "cell_type": "code",
   "execution_count": 59,
   "id": "83272c98",
   "metadata": {},
   "outputs": [
    {
     "data": {
      "text/html": [
       "<div>\n",
       "<style scoped>\n",
       "    .dataframe tbody tr th:only-of-type {\n",
       "        vertical-align: middle;\n",
       "    }\n",
       "\n",
       "    .dataframe tbody tr th {\n",
       "        vertical-align: top;\n",
       "    }\n",
       "\n",
       "    .dataframe thead th {\n",
       "        text-align: right;\n",
       "    }\n",
       "</style>\n",
       "<table border=\"1\" class=\"dataframe\">\n",
       "  <thead>\n",
       "    <tr style=\"text-align: right;\">\n",
       "      <th></th>\n",
       "      <th>proporção de NaN</th>\n",
       "    </tr>\n",
       "  </thead>\n",
       "  <tbody>\n",
       "    <tr>\n",
       "      <th>posse_de_bola</th>\n",
       "      <td>0.186652</td>\n",
       "    </tr>\n",
       "    <tr>\n",
       "      <th>precisao_passes</th>\n",
       "      <td>0.463441</td>\n",
       "    </tr>\n",
       "  </tbody>\n",
       "</table>\n",
       "</div>"
      ],
      "text/plain": [
       "                 proporção de NaN\n",
       "posse_de_bola            0.186652\n",
       "precisao_passes          0.463441"
      ]
     },
     "execution_count": 59,
     "metadata": {},
     "output_type": "execute_result"
    }
   ],
   "source": [
    "NaN_prop(df_estat)"
   ]
  },
  {
   "cell_type": "markdown",
   "id": "87345b1d",
   "metadata": {},
   "source": [
    "Novamente a presença de dados faltantes é causado pela falta de registro dessas informações em parte das partidas. Isso torna difícil inputar esses dados. Além disso, é importante destacar que a quantidade de valores ausentes é muito grande. Inicialmente, opta-se por manter os dados faltantes."
   ]
  },
  {
   "cell_type": "markdown",
   "id": "6cc8899c",
   "metadata": {},
   "source": [
    "## Base de dados `cartoes`: "
   ]
  },
  {
   "cell_type": "markdown",
   "id": "492d24cc",
   "metadata": {},
   "source": [
    "|     Coluna     |           Tipo           |\n",
    "|:--------------:|:------------------------:|\n",
    "| partida_id     | _int_                    |\n",
    "| rodata         | _int_                    |\n",
    "| clube          | _string_                 |\n",
    "| cartao         | _string_                 |\n",
    "| atleta         | _string_                 |\n",
    "\n",
    "As colunas `num_camisa`, `posicao` e `minuto` foram removidas por serem irrelevantes."
   ]
  },
  {
   "cell_type": "markdown",
   "id": "162e059a",
   "metadata": {},
   "source": [
    "* **Convertendo tipos de colunas no DataFrame `cartoes`**:"
   ]
  },
  {
   "cell_type": "code",
   "execution_count": 60,
   "id": "de814863",
   "metadata": {},
   "outputs": [],
   "source": [
    "# Removendo colunas\n",
    "df_cartoes = df_cartoes.drop(columns=\n",
    "                             ['num_camisa', 'posicao', 'minuto'])\n",
    "\n",
    "# Int\n",
    "df_cartoes['partida_id'] = df_cartoes['partida_id'].astype(int)\n",
    "df_cartoes['rodata'] = df_cartoes['rodata'].astype(int)\n",
    "\n",
    "# Strings\n",
    "df_cartoes['clube'] = df_cartoes['clube'].astype('string')\n",
    "df_cartoes['cartao'] = df_cartoes['cartao'].astype('string')\n",
    "df_cartoes['atleta'] = df_cartoes['atleta'].astype('string')"
   ]
  },
  {
   "cell_type": "code",
   "execution_count": 61,
   "id": "65c4ca3d",
   "metadata": {},
   "outputs": [
    {
     "data": {
      "text/html": [
       "<div>\n",
       "<style scoped>\n",
       "    .dataframe tbody tr th:only-of-type {\n",
       "        vertical-align: middle;\n",
       "    }\n",
       "\n",
       "    .dataframe tbody tr th {\n",
       "        vertical-align: top;\n",
       "    }\n",
       "\n",
       "    .dataframe thead th {\n",
       "        text-align: right;\n",
       "    }\n",
       "</style>\n",
       "<table border=\"1\" class=\"dataframe\">\n",
       "  <thead>\n",
       "    <tr style=\"text-align: right;\">\n",
       "      <th></th>\n",
       "      <th>proporção de NaN</th>\n",
       "    </tr>\n",
       "  </thead>\n",
       "  <tbody>\n",
       "    <tr>\n",
       "      <th>atleta</th>\n",
       "      <td>0.000312</td>\n",
       "    </tr>\n",
       "  </tbody>\n",
       "</table>\n",
       "</div>"
      ],
      "text/plain": [
       "        proporção de NaN\n",
       "atleta          0.000312"
      ]
     },
     "execution_count": 61,
     "metadata": {},
     "output_type": "execute_result"
    }
   ],
   "source": [
    "NaN_prop(df_cartoes)"
   ]
  },
  {
   "cell_type": "code",
   "execution_count": 62,
   "id": "9745a45c",
   "metadata": {},
   "outputs": [
    {
     "name": "stdout",
     "output_type": "stream",
     "text": [
      "       partida_id  rodata          clube    cartao atleta\n",
      "8471         6303      20        Vitoria   Amarelo   <NA>\n",
      "8966         6420      30        Vitoria   Amarelo   <NA>\n",
      "12359        7124      24  Internacional   Amarelo   <NA>\n",
      "13102        7291       3  Internacional  Vermelho   <NA>\n",
      "13174        7309       5  Internacional   Amarelo   <NA>\n",
      "13281        7332       7  Internacional   Amarelo   <NA>\n"
     ]
    }
   ],
   "source": [
    "print(df_cartoes[df_cartoes['atleta'].isna()])"
   ]
  },
  {
   "cell_type": "markdown",
   "id": "c2b8f78a",
   "metadata": {},
   "source": [
    "Apenas seis registros apresentam o nome do atleta como dado faltante. Como essa informação não é tão essencial, e não faz sentido inputar ou excluir esses registros, opta-se por manter os dados faltantes."
   ]
  },
  {
   "cell_type": "markdown",
   "id": "9f08b0e6",
   "metadata": {},
   "source": [
    "## Base de dados `gols`: "
   ]
  },
  {
   "cell_type": "markdown",
   "id": "c18b0a58",
   "metadata": {},
   "source": [
    "|     Coluna     |         Tipo         |\n",
    "|:--------------:|:--------------------:|\n",
    "| partida_id     | _int_                |\n",
    "| rodata         | _int_                |\n",
    "| clube          | _string_             |\n",
    "| atleta         | _string_             |\n",
    "| minuto         | _int_     |\n",
    "| acrescimo | _int_ |\n",
    "| tipo_de_gol    | _string_ |\n",
    "\n",
    "A variável `acrescimo` foi criada para quando o gol foi feito durante o tempo de acréscimo de um dos tempos. Quando o gol não acontece no acréscimo, o valor atribuído é 0; caso contrário, o valor representa o minuto do acréscimo em que o gol foi marcado."
   ]
  },
  {
   "cell_type": "markdown",
   "id": "e0d45af3",
   "metadata": {},
   "source": [
    "* **Convertendo tipos de colunas no DataFrame `gols`**:"
   ]
  },
  {
   "cell_type": "code",
   "execution_count": 63,
   "id": "4ee93351",
   "metadata": {},
   "outputs": [],
   "source": [
    "# Preparando a coluna acrescimo\n",
    "df_gols[['minuto', 'acrescimo']] = df_gols['minuto'].str.split('+', expand=True)\n",
    "df_gols['acrescimo'] = df_gols['acrescimo'].fillna(0) # Substitui os None por 0 (não aconteceu no acréscimo)\n",
    "\n",
    "# Inteiros\n",
    "df_gols['partida_id'] = df_gols['partida_id'].astype(int)\n",
    "df_gols['rodata'] = df_gols['rodata'].astype(int)\n",
    "df_gols['minuto'] = df_gols['minuto'].astype(int)\n",
    "df_gols['acrescimo'] = df_gols['acrescimo'].astype(int)\n",
    "\n",
    "# Strings\n",
    "df_gols['clube'] = df_gols['clube'].astype('string')\n",
    "df_gols['atleta'] = df_gols['atleta'].astype('string')\n",
    "df_gols['tipo_de_gol'] = df_gols['tipo_de_gol'].astype('string')"
   ]
  },
  {
   "cell_type": "code",
   "execution_count": 64,
   "id": "ca74c798",
   "metadata": {},
   "outputs": [
    {
     "data": {
      "text/html": [
       "<div>\n",
       "<style scoped>\n",
       "    .dataframe tbody tr th:only-of-type {\n",
       "        vertical-align: middle;\n",
       "    }\n",
       "\n",
       "    .dataframe tbody tr th {\n",
       "        vertical-align: top;\n",
       "    }\n",
       "\n",
       "    .dataframe thead th {\n",
       "        text-align: right;\n",
       "    }\n",
       "</style>\n",
       "<table border=\"1\" class=\"dataframe\">\n",
       "  <thead>\n",
       "    <tr style=\"text-align: right;\">\n",
       "      <th></th>\n",
       "      <th>proporção de NaN</th>\n",
       "    </tr>\n",
       "  </thead>\n",
       "  <tbody>\n",
       "    <tr>\n",
       "      <th>tipo_de_gol</th>\n",
       "      <td>0.879312</td>\n",
       "    </tr>\n",
       "  </tbody>\n",
       "</table>\n",
       "</div>"
      ],
      "text/plain": [
       "             proporção de NaN\n",
       "tipo_de_gol          0.879312"
      ]
     },
     "execution_count": 64,
     "metadata": {},
     "output_type": "execute_result"
    }
   ],
   "source": [
    "NaN_prop(df_gols)"
   ]
  },
  {
   "cell_type": "markdown",
   "id": "55808b05",
   "metadata": {},
   "source": [
    "* **Coluna `tipo_de_gol`:**"
   ]
  },
  {
   "cell_type": "code",
   "execution_count": 65,
   "id": "0c0fdc94",
   "metadata": {},
   "outputs": [
    {
     "name": "stdout",
     "output_type": "stream",
     "text": [
      "0             <NA>\n",
      "1       Gol Contra\n",
      "2          Penalty\n",
      "3             <NA>\n",
      "4             <NA>\n",
      "           ...    \n",
      "9856          <NA>\n",
      "9857          <NA>\n",
      "9858          <NA>\n",
      "9859       Penalty\n",
      "9860          <NA>\n",
      "Name: tipo_de_gol, Length: 9711, dtype: string\n"
     ]
    }
   ],
   "source": [
    "print(df_gols['tipo_de_gol'])"
   ]
  },
  {
   "cell_type": "markdown",
   "id": "05e361a2",
   "metadata": {},
   "source": [
    "Os dados faltantes na variável `tipo_de_gol` ocorrem porque não há uma categoria explícita para gols a favor. Para padronizar a variável, os valores ausentes serão imputados com a categoria \"Gol\":"
   ]
  },
  {
   "cell_type": "code",
   "execution_count": 66,
   "id": "8ccc41b7",
   "metadata": {},
   "outputs": [],
   "source": [
    "df_gols['tipo_de_gol'] = df_gols['tipo_de_gol'].fillna(\"Gol\")"
   ]
  },
  {
   "cell_type": "markdown",
   "id": "4da15694",
   "metadata": {},
   "source": [
    "---"
   ]
  },
  {
   "cell_type": "markdown",
   "id": "8c45034b",
   "metadata": {},
   "source": [
    "# Atividade 2:"
   ]
  },
  {
   "cell_type": "code",
   "execution_count": 67,
   "id": "1a0efc17",
   "metadata": {},
   "outputs": [],
   "source": [
    "# Criando 2 dataframes para estatísticas do mandante e visitante\n",
    "# para não precisar renomear as colunas manualmente\n",
    "df_estat_mandante, df_estat_visitante  = df_estat.copy(), df_estat.copy()\n",
    "df_estat_mandante, df_estat_visitante = (\n",
    "    df_estat_mandante.add_prefix('mandante_'),\n",
    "    df_estat_visitante.add_prefix('visitante_')\n",
    ")\n",
    "\n",
    "query = \"\"\"\n",
    "SELECT *\n",
    "FROM \n",
    "    df_full\n",
    "LEFT JOIN \n",
    "    df_estat_mandante\n",
    "    ON ID = mandante_partida_id AND mandante = mandante_clube\n",
    "LEFT JOIN \n",
    "    df_estat_visitante\n",
    "    ON ID = visitante_partida_id AND visitante = visitante_clube\n",
    "\"\"\"\n",
    "\n",
    "df_partidas = pysqldf(query)\n",
    "\n",
    "# Mudando de sufixo para prefixo\n",
    "df_partidas = df_partidas.rename(columns={\n",
    "    'formacao_mandante': 'mandante_formacao',\n",
    "    'formacao_visitante': 'visitante_formacao'\n",
    "})\n",
    "\n",
    "# Removendo colunas redundantes\n",
    "df_partidas = df_partidas.drop(columns=[\n",
    "    'mandante_partida_id',\n",
    "    'mandante_rodata',\n",
    "    'mandante_clube',\n",
    "    'visitante_partida_id',\n",
    "    'visitante_rodata',\n",
    "    'visitante_clube'\n",
    "])"
   ]
  },
  {
   "cell_type": "markdown",
   "id": "fe3332b9",
   "metadata": {},
   "source": [
    "* **Imprimindo colunas do _dataframe_ `partidas`:**"
   ]
  },
  {
   "cell_type": "code",
   "execution_count": 68,
   "id": "64703876",
   "metadata": {},
   "outputs": [
    {
     "name": "stdout",
     "output_type": "stream",
     "text": [
      "Index(['ID', 'rodata', 'data', 'hora', 'mandante', 'visitante',\n",
      "       'mandante_formacao', 'visitante_formacao', 'vencedor',\n",
      "       'mandante_Placar', 'visitante_Placar', 'mandante_chutes',\n",
      "       'mandante_chutes_no_alvo', 'mandante_posse_de_bola', 'mandante_passes',\n",
      "       'mandante_precisao_passes', 'mandante_faltas',\n",
      "       'mandante_cartao_amarelo', 'mandante_cartao_vermelho',\n",
      "       'mandante_impedimentos', 'mandante_escanteios', 'visitante_chutes',\n",
      "       'visitante_chutes_no_alvo', 'visitante_posse_de_bola',\n",
      "       'visitante_passes', 'visitante_precisao_passes', 'visitante_faltas',\n",
      "       'visitante_cartao_amarelo', 'visitante_cartao_vermelho',\n",
      "       'visitante_impedimentos', 'visitante_escanteios'],\n",
      "      dtype='object')\n"
     ]
    }
   ],
   "source": [
    "print(df_partidas.columns)"
   ]
  },
  {
   "cell_type": "markdown",
   "id": "3e7598c5",
   "metadata": {},
   "source": [
    "---"
   ]
  },
  {
   "cell_type": "markdown",
   "id": "d5033292",
   "metadata": {},
   "source": [
    "# Atividade 3:"
   ]
  },
  {
   "cell_type": "markdown",
   "id": "6a79f327",
   "metadata": {},
   "source": [
    "Inicialmente, será realizada uma análise preliminar com o objetivo de investigar uma possível associação entre a posse de bola e o resultado da partida. Para isso, será utilizado um gráfico do tipo _boxplot_."
   ]
  },
  {
   "cell_type": "code",
   "execution_count": 69,
   "id": "aeb19200",
   "metadata": {},
   "outputs": [],
   "source": [
    "# Seleciona colunas necessárias\n",
    "df_query = df_estat[['partida_id', 'posse_de_bola', 'clube']].dropna()\n",
    "\n",
    "# Adiciona a informação de quem venceu cada partida\n",
    "df_query = df_query.merge(\n",
    "    df_full[['ID', 'vencedor']],\n",
    "    left_on='partida_id',\n",
    "    right_on='ID',\n",
    "    how='left'\n",
    ").drop(columns='ID')\n",
    "\n",
    "# Muda para poorcentagem\n",
    "df_query['posse_de_bola'] = df_query['posse_de_bola']*100\n",
    "\n",
    "# Ids de vitoria\n",
    "ids_vitoria = (df_query['clube'] == df_query['vencedor'])\n",
    "\n",
    "# Cria uma nova coluna para guardar a vitória ou não vitória do time\n",
    "df_query['resultado'] = 'não vitória'\n",
    "df_query.loc[ids_vitoria, 'resultado'] = 'vitória'\n"
   ]
  },
  {
   "cell_type": "code",
   "execution_count": 70,
   "id": "b432eb8d",
   "metadata": {},
   "outputs": [
    {
     "data": {
      "image/png": "[encoded data removed]",
      "text/plain": [
       "<Figure size 800x600 with 1 Axes>"
      ]
     },
     "metadata": {},
     "output_type": "display_data"
    }
   ],
   "source": [
    "# Boxplot:\n",
    "sns.set(style=\"whitegrid\")\n",
    "plt.figure(figsize=(8, 6))\n",
    "sns.boxplot(x='resultado', y='posse_de_bola', data=df_query, hue='resultado')\n",
    "plt.title('Posse de Bola (%) por Resultado da Partida')\n",
    "plt.xlabel('Resultado')\n",
    "plt.ylabel('Posse de Bola (%)')\n",
    "plt.show()"
   ]
  },
  {
   "cell_type": "markdown",
   "id": "4f5cfc02",
   "metadata": {},
   "source": [
    "Como podemos ver, o gráfico não mostra indício nenhum de associação entre a posse de bola e o resultado do jogo. Mas para entender melhor, precisamos olhar outras informações da partida. Por exemplo, se o time mandante (que joga em casa) costuma ter mais posse de bola, não considerar isso na análise pode causar um erro, porque o fato de ser mandante pode influenciar tanto a posse de bola quanto o resultado do jogo. Essa influência do mando de campo é chamada de confusão, e ela pode esconder a relação real entre posse de bola e resultado (Pearl, 2009). Dessa forma, é necessário incluir essas outras características nas análises.\n",
    "\n",
    "Um ponto importante a ser observado é a forma de organizar os dados. A proposta é que cada linha da base de dados represente o desempenho de um único time em uma partida específica, ou seja, para cada jogo haverá duas observações: uma para o time mandante e outra para o visitante. Essa organização permite incluir tanto as estatísticas do próprio time (como chutes a gol, posse de bola, cartões, etc.) quanto as estatísticas do adversário naquela mesma partida. Isso é importante porque o desempenho de um time muitas vezes depende diretamente do que o adversário fez ou deixou de fazer. No entanto, no caso da covariável posse de bola, será considerada apenas a posse de bola do próprio time, uma vez que os valores são complementares. Como a soma das posses de bola dos dois times é sempre 100%, incluir ambas as variáveis no modelo resultaria em multicolinearidade, o que impossibilita a estimação adequada dos coeficientes do modelo. "
   ]
  },
  {
   "cell_type": "markdown",
   "id": "36f1454c",
   "metadata": {},
   "source": [
    "* **Organizando os dados:**"
   ]
  },
  {
   "cell_type": "code",
   "execution_count": 71,
   "id": "5c80c840",
   "metadata": {},
   "outputs": [],
   "source": [
    "# Criando um dataframe para estatísticas do adversário\n",
    "# para não precisar renomear as colunas manualmente\n",
    "df_estat_adversario  = df_estat.copy()\n",
    "df_estat_adversario = df_estat_adversario.add_prefix('adversario_')\n",
    "\n",
    "query = \"\"\"\n",
    "SELECT \n",
    "    e.*, \n",
    "    a.*, \n",
    "    CASE WHEN f.mandante = e.clube THEN 1 ELSE 0 END AS mandante,\n",
    "    CASE WHEN f.vencedor = e.clube THEN 1 ELSE 0 END AS vitoria,\n",
    "    formacao_mandante,\n",
    "    formacao_visitante\n",
    "FROM \n",
    "    df_estat AS e\n",
    "LEFT JOIN \n",
    "    df_estat_adversario AS a\n",
    "    ON e.partida_id = a.adversario_partida_id AND e.clube != a.adversario_clube\n",
    "LEFT JOIN \n",
    "    df_full AS f\n",
    "    ON e.partida_id = f.ID\n",
    "\"\"\"\n",
    "\n",
    "df_dados = pysqldf(query)"
   ]
  },
  {
   "cell_type": "markdown",
   "id": "5357f73c",
   "metadata": {},
   "source": [
    "* **Alterando as colunas de formação do time mandante e time visitante para formação do próprio time e formação do time adversário:**"
   ]
  },
  {
   "cell_type": "code",
   "execution_count": 72,
   "id": "d61f5912",
   "metadata": {},
   "outputs": [],
   "source": [
    "df_dados['formacao'] = df_dados.apply(\n",
    "    lambda row: row['formacao_mandante'] if row['mandante'] == 1 else row['formacao_visitante'],\n",
    "    axis=1\n",
    ")\n",
    "\n",
    "df_dados['adversario_formacao'] = df_dados.apply(\n",
    "    lambda row: row['formacao_visitante'] if row['mandante'] == 1 else row['formacao_mandante'],\n",
    "    axis=1\n",
    ")\n",
    "\n",
    "# Removendo colunas \n",
    "df_dados = df_dados.drop(columns=[\n",
    "    # não servem como covariável:\n",
    "    'partida_id',\n",
    "    'rodata',\n",
    "    'clube',\n",
    "    'adversario_partida_id',\n",
    "    'adversario_rodata',\n",
    "    'adversario_clube',\n",
    "    # retirado pela multicolinearidade:\n",
    "    'adversario_posse_de_bola',\n",
    "    # retirados pela redundancia:\n",
    "    'formacao_mandante',\n",
    "    'formacao_visitante'\n",
    "])"
   ]
  },
  {
   "cell_type": "markdown",
   "id": "331c62bc",
   "metadata": {},
   "source": [
    "* **Análisando se há dados faltantes:**"
   ]
  },
  {
   "cell_type": "code",
   "execution_count": 73,
   "id": "8675cb59",
   "metadata": {},
   "outputs": [
    {
     "data": {
      "text/html": [
       "<div>\n",
       "<style scoped>\n",
       "    .dataframe tbody tr th:only-of-type {\n",
       "        vertical-align: middle;\n",
       "    }\n",
       "\n",
       "    .dataframe tbody tr th {\n",
       "        vertical-align: top;\n",
       "    }\n",
       "\n",
       "    .dataframe thead th {\n",
       "        text-align: right;\n",
       "    }\n",
       "</style>\n",
       "<table border=\"1\" class=\"dataframe\">\n",
       "  <thead>\n",
       "    <tr style=\"text-align: right;\">\n",
       "      <th></th>\n",
       "      <th>proporção de NaN</th>\n",
       "    </tr>\n",
       "  </thead>\n",
       "  <tbody>\n",
       "    <tr>\n",
       "      <th>posse_de_bola</th>\n",
       "      <td>0.186652</td>\n",
       "    </tr>\n",
       "    <tr>\n",
       "      <th>precisao_passes</th>\n",
       "      <td>0.463441</td>\n",
       "    </tr>\n",
       "    <tr>\n",
       "      <th>adversario_precisao_passes</th>\n",
       "      <td>0.463441</td>\n",
       "    </tr>\n",
       "    <tr>\n",
       "      <th>formacao</th>\n",
       "      <td>0.087743</td>\n",
       "    </tr>\n",
       "    <tr>\n",
       "      <th>adversario_formacao</th>\n",
       "      <td>0.087743</td>\n",
       "    </tr>\n",
       "  </tbody>\n",
       "</table>\n",
       "</div>"
      ],
      "text/plain": [
       "                            proporção de NaN\n",
       "posse_de_bola                       0.186652\n",
       "precisao_passes                     0.463441\n",
       "adversario_precisao_passes          0.463441\n",
       "formacao                            0.087743\n",
       "adversario_formacao                 0.087743"
      ]
     },
     "execution_count": 73,
     "metadata": {},
     "output_type": "execute_result"
    }
   ],
   "source": [
    "NaN_prop(df_dados)"
   ]
  },
  {
   "cell_type": "markdown",
   "id": "2a032535",
   "metadata": {},
   "source": [
    "As variáveis que apresentam dados faltantes não permitem uma imputação adequada. No caso da variável de precisão de passes, a proporção de valores ausentes é muito elevada, o que compromete sua utilização, por isso, ela será excluída da análise. Já a variável de formação tática apresenta dados faltantes em apenas quatro linhas (equivalente a duas partidas), e, por isso, optou-se por remover essas observações da base. Como a variável posse de bola é a variável de interesse será necessário remover as partidas em que ela não foi coletada.\n",
    "\n",
    "A variável de formação tática é categórica e possui um número grande de categorias. Além disso, formações como '4-2-2-2' e '4-4-2', embora diferentes como texto, são muito semelhantes em estrutura. Por isso, optamos por transformá-la em três variáveis numéricas que representem a composição tática da equipe: número de defensores, de meio-campistas e de atacantes. O primeiro número da formação corresponde aos defensores, o último aos atacantes, e os valores intermediários aos jogadores de meio-campo (ref)."
   ]
  },
  {
   "cell_type": "markdown",
   "id": "88ef85df",
   "metadata": {},
   "source": [
    "* **Removendo os dados faltantes**:"
   ]
  },
  {
   "cell_type": "code",
   "execution_count": 74,
   "id": "273316aa",
   "metadata": {},
   "outputs": [],
   "source": [
    "# Remove a variável de precisão de passes\n",
    "df_dados = df_dados.drop(columns=['precisao_passes', 'adversario_precisao_passes'])\n",
    "\n",
    "# Remove as linhas onde a formação está faltando\n",
    "df_dados = df_dados.dropna(subset=['formacao', 'adversario_formacao'])"
   ]
  },
  {
   "cell_type": "markdown",
   "id": "bc237ed9",
   "metadata": {},
   "source": [
    "* **Criando variáveis da formação tática**:"
   ]
  },
  {
   "cell_type": "code",
   "execution_count": 75,
   "id": "c025871b",
   "metadata": {},
   "outputs": [],
   "source": [
    "# Função que extrai defesa, meio-campo e ataque\n",
    "def formacao_func(formacao: str) -> tuple:\n",
    "    formacao_split = np.array(formacao.split('-'), dtype=np.int64)\n",
    "\n",
    "    return(formacao_split[0], formacao_split[1:-1].sum(), formacao_split[-1]) # defesa, meio-campo e ataque\n",
    "\n",
    "\n",
    "df_dados[['defensores',\n",
    "          'meio_campo',\n",
    "          'atacantes']] = df_dados['formacao'].apply(formacao_func).apply(pd.Series)\n",
    "\n",
    "df_dados[['adversario_defensores',\n",
    "          'adversario_meio_campo',\n",
    "          'adversario_atacantes']] = df_dados['adversario_formacao'].apply(formacao_func).apply(pd.Series)\n",
    "\n",
    "# Removendo as variáveis categóricas de formação tática\n",
    "df_dados = df_dados.drop(columns=['formacao', 'adversario_formacao'])\n"
   ]
  },
  {
   "cell_type": "markdown",
   "id": "b12445e6",
   "metadata": {},
   "source": [
    "Para investigar a influência da posse de bola sobre o resultado das partidas, será utilizada uma variável resposta binária que indica se o time venceu (1) ou não venceu (0) a partida. Serão ajustados dois modelos de classificação: o primeiro é um modelo logístico, que permite interpretar diretamente os coeficientes associados a cada covariável, facilitando a compreensão do efeito de cada uma delas sobre a probabilidade de vitória. O segundo modelo é a floresta aleatória, que possui uma estrutura mais flexível, capaz de capturar relações não lineares e interações entre as covariáveis. Além disso, esse modelo permite calcular a importância relativa das covariáveis, auxiliando na identificação dos fatores mais relevantes para o resultado da partida."
   ]
  },
  {
   "cell_type": "markdown",
   "id": "d7737c2e",
   "metadata": {},
   "source": [
    "* **Ajustando os modelos:**"
   ]
  },
  {
   "cell_type": "code",
   "execution_count": 76,
   "id": "f0c1f189",
   "metadata": {},
   "outputs": [
    {
     "data": {
      "text/html": [
       "<style>#sk-container-id-1 {\n",
       "  /* Definition of color scheme common for light and dark mode */\n",
       "  --sklearn-color-text: #000;\n",
       "  --sklearn-color-text-muted: #666;\n",
       "  --sklearn-color-line: gray;\n",
       "  /* Definition of color scheme for unfitted estimators */\n",
       "  --sklearn-color-unfitted-level-0: #fff5e6;\n",
       "  --sklearn-color-unfitted-level-1: #f6e4d2;\n",
       "  --sklearn-color-unfitted-level-2: #ffe0b3;\n",
       "  --sklearn-color-unfitted-level-3: chocolate;\n",
       "  /* Definition of color scheme for fitted estimators */\n",
       "  --sklearn-color-fitted-level-0: #f0f8ff;\n",
       "  --sklearn-color-fitted-level-1: #d4ebff;\n",
       "  --sklearn-color-fitted-level-2: #b3dbfd;\n",
       "  --sklearn-color-fitted-level-3: cornflowerblue;\n",
       "\n",
       "  /* Specific color for light theme */\n",
       "  --sklearn-color-text-on-default-background: var(--sg-text-color, var(--theme-code-foreground, var(--jp-content-font-color1, black)));\n",
       "  --sklearn-color-background: var(--sg-background-color, var(--theme-background, var(--jp-layout-color0, white)));\n",
       "  --sklearn-color-border-box: var(--sg-text-color, var(--theme-code-foreground, var(--jp-content-font-color1, black)));\n",
       "  --sklearn-color-icon: #696969;\n",
       "\n",
       "  @media (prefers-color-scheme: dark) {\n",
       "    /* Redefinition of color scheme for dark theme */\n",
       "    --sklearn-color-text-on-default-background: var(--sg-text-color, var(--theme-code-foreground, var(--jp-content-font-color1, white)));\n",
       "    --sklearn-color-background: var(--sg-background-color, var(--theme-background, var(--jp-layout-color0, #111)));\n",
       "    --sklearn-color-border-box: var(--sg-text-color, var(--theme-code-foreground, var(--jp-content-font-color1, white)));\n",
       "    --sklearn-color-icon: #878787;\n",
       "  }\n",
       "}\n",
       "\n",
       "#sk-container-id-1 {\n",
       "  color: var(--sklearn-color-text);\n",
       "}\n",
       "\n",
       "#sk-container-id-1 pre {\n",
       "  padding: 0;\n",
       "}\n",
       "\n",
       "#sk-container-id-1 input.sk-hidden--visually {\n",
       "  border: 0;\n",
       "  clip: rect(1px 1px 1px 1px);\n",
       "  clip: rect(1px, 1px, 1px, 1px);\n",
       "  height: 1px;\n",
       "  margin: -1px;\n",
       "  overflow: hidden;\n",
       "  padding: 0;\n",
       "  position: absolute;\n",
       "  width: 1px;\n",
       "}\n",
       "\n",
       "#sk-container-id-1 div.sk-dashed-wrapped {\n",
       "  border: 1px dashed var(--sklearn-color-line);\n",
       "  margin: 0 0.4em 0.5em 0.4em;\n",
       "  box-sizing: border-box;\n",
       "  padding-bottom: 0.4em;\n",
       "  background-color: var(--sklearn-color-background);\n",
       "}\n",
       "\n",
       "#sk-container-id-1 div.sk-container {\n",
       "  /* jupyter's `normalize.less` sets `[hidden] { display: none; }`\n",
       "     but bootstrap.min.css set `[hidden] { display: none !important; }`\n",
       "     so we also need the `!important` here to be able to override the\n",
       "     default hidden behavior on the sphinx rendered scikit-learn.org.\n",
       "     See: https://github.com/scikit-learn/scikit-learn/issues/21755 */\n",
       "  display: inline-block !important;\n",
       "  position: relative;\n",
       "}\n",
       "\n",
       "#sk-container-id-1 div.sk-text-repr-fallback {\n",
       "  display: none;\n",
       "}\n",
       "\n",
       "div.sk-parallel-item,\n",
       "div.sk-serial,\n",
       "div.sk-item {\n",
       "  /* draw centered vertical line to link estimators */\n",
       "  background-image: linear-gradient(var(--sklearn-color-text-on-default-background), var(--sklearn-color-text-on-default-background));\n",
       "  background-size: 2px 100%;\n",
       "  background-repeat: no-repeat;\n",
       "  background-position: center center;\n",
       "}\n",
       "\n",
       "/* Parallel-specific style estimator block */\n",
       "\n",
       "#sk-container-id-1 div.sk-parallel-item::after {\n",
       "  content: \"\";\n",
       "  width: 100%;\n",
       "  border-bottom: 2px solid var(--sklearn-color-text-on-default-background);\n",
       "  flex-grow: 1;\n",
       "}\n",
       "\n",
       "#sk-container-id-1 div.sk-parallel {\n",
       "  display: flex;\n",
       "  align-items: stretch;\n",
       "  justify-content: center;\n",
       "  background-color: var(--sklearn-color-background);\n",
       "  position: relative;\n",
       "}\n",
       "\n",
       "#sk-container-id-1 div.sk-parallel-item {\n",
       "  display: flex;\n",
       "  flex-direction: column;\n",
       "}\n",
       "\n",
       "#sk-container-id-1 div.sk-parallel-item:first-child::after {\n",
       "  align-self: flex-end;\n",
       "  width: 50%;\n",
       "}\n",
       "\n",
       "#sk-container-id-1 div.sk-parallel-item:last-child::after {\n",
       "  align-self: flex-start;\n",
       "  width: 50%;\n",
       "}\n",
       "\n",
       "#sk-container-id-1 div.sk-parallel-item:only-child::after {\n",
       "  width: 0;\n",
       "}\n",
       "\n",
       "/* Serial-specific style estimator block */\n",
       "\n",
       "#sk-container-id-1 div.sk-serial {\n",
       "  display: flex;\n",
       "  flex-direction: column;\n",
       "  align-items: center;\n",
       "  background-color: var(--sklearn-color-background);\n",
       "  padding-right: 1em;\n",
       "  padding-left: 1em;\n",
       "}\n",
       "\n",
       "\n",
       "/* Toggleable style: style used for estimator/Pipeline/ColumnTransformer box that is\n",
       "clickable and can be expanded/collapsed.\n",
       "- Pipeline and ColumnTransformer use this feature and define the default style\n",
       "- Estimators will overwrite some part of the style using the `sk-estimator` class\n",
       "*/\n",
       "\n",
       "/* Pipeline and ColumnTransformer style (default) */\n",
       "\n",
       "#sk-container-id-1 div.sk-toggleable {\n",
       "  /* Default theme specific background. It is overwritten whether we have a\n",
       "  specific estimator or a Pipeline/ColumnTransformer */\n",
       "  background-color: var(--sklearn-color-background);\n",
       "}\n",
       "\n",
       "/* Toggleable label */\n",
       "#sk-container-id-1 label.sk-toggleable__label {\n",
       "  cursor: pointer;\n",
       "  display: flex;\n",
       "  width: 100%;\n",
       "  margin-bottom: 0;\n",
       "  padding: 0.5em;\n",
       "  box-sizing: border-box;\n",
       "  text-align: center;\n",
       "  align-items: start;\n",
       "  justify-content: space-between;\n",
       "  gap: 0.5em;\n",
       "}\n",
       "\n",
       "#sk-container-id-1 label.sk-toggleable__label .caption {\n",
       "  font-size: 0.6rem;\n",
       "  font-weight: lighter;\n",
       "  color: var(--sklearn-color-text-muted);\n",
       "}\n",
       "\n",
       "#sk-container-id-1 label.sk-toggleable__label-arrow:before {\n",
       "  /* Arrow on the left of the label */\n",
       "  content: \"▸\";\n",
       "  float: left;\n",
       "  margin-right: 0.25em;\n",
       "  color: var(--sklearn-color-icon);\n",
       "}\n",
       "\n",
       "#sk-container-id-1 label.sk-toggleable__label-arrow:hover:before {\n",
       "  color: var(--sklearn-color-text);\n",
       "}\n",
       "\n",
       "/* Toggleable content - dropdown */\n",
       "\n",
       "#sk-container-id-1 div.sk-toggleable__content {\n",
       "  max-height: 0;\n",
       "  max-width: 0;\n",
       "  overflow: hidden;\n",
       "  text-align: left;\n",
       "  /* unfitted */\n",
       "  background-color: var(--sklearn-color-unfitted-level-0);\n",
       "}\n",
       "\n",
       "#sk-container-id-1 div.sk-toggleable__content.fitted {\n",
       "  /* fitted */\n",
       "  background-color: var(--sklearn-color-fitted-level-0);\n",
       "}\n",
       "\n",
       "#sk-container-id-1 div.sk-toggleable__content pre {\n",
       "  margin: 0.2em;\n",
       "  border-radius: 0.25em;\n",
       "  color: var(--sklearn-color-text);\n",
       "  /* unfitted */\n",
       "  background-color: var(--sklearn-color-unfitted-level-0);\n",
       "}\n",
       "\n",
       "#sk-container-id-1 div.sk-toggleable__content.fitted pre {\n",
       "  /* unfitted */\n",
       "  background-color: var(--sklearn-color-fitted-level-0);\n",
       "}\n",
       "\n",
       "#sk-container-id-1 input.sk-toggleable__control:checked~div.sk-toggleable__content {\n",
       "  /* Expand drop-down */\n",
       "  max-height: 200px;\n",
       "  max-width: 100%;\n",
       "  overflow: auto;\n",
       "}\n",
       "\n",
       "#sk-container-id-1 input.sk-toggleable__control:checked~label.sk-toggleable__label-arrow:before {\n",
       "  content: \"▾\";\n",
       "}\n",
       "\n",
       "/* Pipeline/ColumnTransformer-specific style */\n",
       "\n",
       "#sk-container-id-1 div.sk-label input.sk-toggleable__control:checked~label.sk-toggleable__label {\n",
       "  color: var(--sklearn-color-text);\n",
       "  background-color: var(--sklearn-color-unfitted-level-2);\n",
       "}\n",
       "\n",
       "#sk-container-id-1 div.sk-label.fitted input.sk-toggleable__control:checked~label.sk-toggleable__label {\n",
       "  background-color: var(--sklearn-color-fitted-level-2);\n",
       "}\n",
       "\n",
       "/* Estimator-specific style */\n",
       "\n",
       "/* Colorize estimator box */\n",
       "#sk-container-id-1 div.sk-estimator input.sk-toggleable__control:checked~label.sk-toggleable__label {\n",
       "  /* unfitted */\n",
       "  background-color: var(--sklearn-color-unfitted-level-2);\n",
       "}\n",
       "\n",
       "#sk-container-id-1 div.sk-estimator.fitted input.sk-toggleable__control:checked~label.sk-toggleable__label {\n",
       "  /* fitted */\n",
       "  background-color: var(--sklearn-color-fitted-level-2);\n",
       "}\n",
       "\n",
       "#sk-container-id-1 div.sk-label label.sk-toggleable__label,\n",
       "#sk-container-id-1 div.sk-label label {\n",
       "  /* The background is the default theme color */\n",
       "  color: var(--sklearn-color-text-on-default-background);\n",
       "}\n",
       "\n",
       "/* On hover, darken the color of the background */\n",
       "#sk-container-id-1 div.sk-label:hover label.sk-toggleable__label {\n",
       "  color: var(--sklearn-color-text);\n",
       "  background-color: var(--sklearn-color-unfitted-level-2);\n",
       "}\n",
       "\n",
       "/* Label box, darken color on hover, fitted */\n",
       "#sk-container-id-1 div.sk-label.fitted:hover label.sk-toggleable__label.fitted {\n",
       "  color: var(--sklearn-color-text);\n",
       "  background-color: var(--sklearn-color-fitted-level-2);\n",
       "}\n",
       "\n",
       "/* Estimator label */\n",
       "\n",
       "#sk-container-id-1 div.sk-label label {\n",
       "  font-family: monospace;\n",
       "  font-weight: bold;\n",
       "  display: inline-block;\n",
       "  line-height: 1.2em;\n",
       "}\n",
       "\n",
       "#sk-container-id-1 div.sk-label-container {\n",
       "  text-align: center;\n",
       "}\n",
       "\n",
       "/* Estimator-specific */\n",
       "#sk-container-id-1 div.sk-estimator {\n",
       "  font-family: monospace;\n",
       "  border: 1px dotted var(--sklearn-color-border-box);\n",
       "  border-radius: 0.25em;\n",
       "  box-sizing: border-box;\n",
       "  margin-bottom: 0.5em;\n",
       "  /* unfitted */\n",
       "  background-color: var(--sklearn-color-unfitted-level-0);\n",
       "}\n",
       "\n",
       "#sk-container-id-1 div.sk-estimator.fitted {\n",
       "  /* fitted */\n",
       "  background-color: var(--sklearn-color-fitted-level-0);\n",
       "}\n",
       "\n",
       "/* on hover */\n",
       "#sk-container-id-1 div.sk-estimator:hover {\n",
       "  /* unfitted */\n",
       "  background-color: var(--sklearn-color-unfitted-level-2);\n",
       "}\n",
       "\n",
       "#sk-container-id-1 div.sk-estimator.fitted:hover {\n",
       "  /* fitted */\n",
       "  background-color: var(--sklearn-color-fitted-level-2);\n",
       "}\n",
       "\n",
       "/* Specification for estimator info (e.g. \"i\" and \"?\") */\n",
       "\n",
       "/* Common style for \"i\" and \"?\" */\n",
       "\n",
       ".sk-estimator-doc-link,\n",
       "a:link.sk-estimator-doc-link,\n",
       "a:visited.sk-estimator-doc-link {\n",
       "  float: right;\n",
       "  font-size: smaller;\n",
       "  line-height: 1em;\n",
       "  font-family: monospace;\n",
       "  background-color: var(--sklearn-color-background);\n",
       "  border-radius: 1em;\n",
       "  height: 1em;\n",
       "  width: 1em;\n",
       "  text-decoration: none !important;\n",
       "  margin-left: 0.5em;\n",
       "  text-align: center;\n",
       "  /* unfitted */\n",
       "  border: var(--sklearn-color-unfitted-level-1) 1pt solid;\n",
       "  color: var(--sklearn-color-unfitted-level-1);\n",
       "}\n",
       "\n",
       ".sk-estimator-doc-link.fitted,\n",
       "a:link.sk-estimator-doc-link.fitted,\n",
       "a:visited.sk-estimator-doc-link.fitted {\n",
       "  /* fitted */\n",
       "  border: var(--sklearn-color-fitted-level-1) 1pt solid;\n",
       "  color: var(--sklearn-color-fitted-level-1);\n",
       "}\n",
       "\n",
       "/* On hover */\n",
       "div.sk-estimator:hover .sk-estimator-doc-link:hover,\n",
       ".sk-estimator-doc-link:hover,\n",
       "div.sk-label-container:hover .sk-estimator-doc-link:hover,\n",
       ".sk-estimator-doc-link:hover {\n",
       "  /* unfitted */\n",
       "  background-color: var(--sklearn-color-unfitted-level-3);\n",
       "  color: var(--sklearn-color-background);\n",
       "  text-decoration: none;\n",
       "}\n",
       "\n",
       "div.sk-estimator.fitted:hover .sk-estimator-doc-link.fitted:hover,\n",
       ".sk-estimator-doc-link.fitted:hover,\n",
       "div.sk-label-container:hover .sk-estimator-doc-link.fitted:hover,\n",
       ".sk-estimator-doc-link.fitted:hover {\n",
       "  /* fitted */\n",
       "  background-color: var(--sklearn-color-fitted-level-3);\n",
       "  color: var(--sklearn-color-background);\n",
       "  text-decoration: none;\n",
       "}\n",
       "\n",
       "/* Span, style for the box shown on hovering the info icon */\n",
       ".sk-estimator-doc-link span {\n",
       "  display: none;\n",
       "  z-index: 9999;\n",
       "  position: relative;\n",
       "  font-weight: normal;\n",
       "  right: .2ex;\n",
       "  padding: .5ex;\n",
       "  margin: .5ex;\n",
       "  width: min-content;\n",
       "  min-width: 20ex;\n",
       "  max-width: 50ex;\n",
       "  color: var(--sklearn-color-text);\n",
       "  box-shadow: 2pt 2pt 4pt #999;\n",
       "  /* unfitted */\n",
       "  background: var(--sklearn-color-unfitted-level-0);\n",
       "  border: .5pt solid var(--sklearn-color-unfitted-level-3);\n",
       "}\n",
       "\n",
       ".sk-estimator-doc-link.fitted span {\n",
       "  /* fitted */\n",
       "  background: var(--sklearn-color-fitted-level-0);\n",
       "  border: var(--sklearn-color-fitted-level-3);\n",
       "}\n",
       "\n",
       ".sk-estimator-doc-link:hover span {\n",
       "  display: block;\n",
       "}\n",
       "\n",
       "/* \"?\"-specific style due to the `<a>` HTML tag */\n",
       "\n",
       "#sk-container-id-1 a.estimator_doc_link {\n",
       "  float: right;\n",
       "  font-size: 1rem;\n",
       "  line-height: 1em;\n",
       "  font-family: monospace;\n",
       "  background-color: var(--sklearn-color-background);\n",
       "  border-radius: 1rem;\n",
       "  height: 1rem;\n",
       "  width: 1rem;\n",
       "  text-decoration: none;\n",
       "  /* unfitted */\n",
       "  color: var(--sklearn-color-unfitted-level-1);\n",
       "  border: var(--sklearn-color-unfitted-level-1) 1pt solid;\n",
       "}\n",
       "\n",
       "#sk-container-id-1 a.estimator_doc_link.fitted {\n",
       "  /* fitted */\n",
       "  border: var(--sklearn-color-fitted-level-1) 1pt solid;\n",
       "  color: var(--sklearn-color-fitted-level-1);\n",
       "}\n",
       "\n",
       "/* On hover */\n",
       "#sk-container-id-1 a.estimator_doc_link:hover {\n",
       "  /* unfitted */\n",
       "  background-color: var(--sklearn-color-unfitted-level-3);\n",
       "  color: var(--sklearn-color-background);\n",
       "  text-decoration: none;\n",
       "}\n",
       "\n",
       "#sk-container-id-1 a.estimator_doc_link.fitted:hover {\n",
       "  /* fitted */\n",
       "  background-color: var(--sklearn-color-fitted-level-3);\n",
       "}\n",
       "</style><div id=\"sk-container-id-1\" class=\"sk-top-container\"><div class=\"sk-text-repr-fallback\"><pre>RandomForestClassifier(n_estimators=500)</pre><b>In a Jupyter environment, please rerun this cell to show the HTML representation or trust the notebook. <br />On GitHub, the HTML representation is unable to render, please try loading this page with nbviewer.org.</b></div><div class=\"sk-container\" hidden><div class=\"sk-item\"><div class=\"sk-estimator fitted sk-toggleable\"><input class=\"sk-toggleable__control sk-hidden--visually\" id=\"sk-estimator-id-1\" type=\"checkbox\" checked><label for=\"sk-estimator-id-1\" class=\"sk-toggleable__label fitted sk-toggleable__label-arrow\"><div><div>RandomForestClassifier</div></div><div><a class=\"sk-estimator-doc-link fitted\" rel=\"noreferrer\" target=\"_blank\" href=\"https://scikit-learn.org/1.6/modules/generated/sklearn.ensemble.RandomForestClassifier.html\">?<span>Documentation for RandomForestClassifier</span></a><span class=\"sk-estimator-doc-link fitted\">i<span>Fitted</span></span></div></label><div class=\"sk-toggleable__content fitted\"><pre>RandomForestClassifier(n_estimators=500)</pre></div> </div></div></div></div>"
      ],
      "text/plain": [
       "RandomForestClassifier(n_estimators=500)"
      ]
     },
     "execution_count": 76,
     "metadata": {},
     "output_type": "execute_result"
    }
   ],
   "source": [
    "from sklearn.model_selection import train_test_split\n",
    "from sklearn.linear_model import LogisticRegression\n",
    "from sklearn.ensemble import RandomForestClassifier\n",
    "from sklearn.pipeline import make_pipeline\n",
    "from sklearn.preprocessing import StandardScaler\n",
    "\n",
    "# Remove os dados faltantes de posse de bola\n",
    "\n",
    "# Define a variável resposta\n",
    "# Removendo os dados faltantes de posse de bola\n",
    "y = df_dados.dropna(subset=['posse_de_bola'])['vitoria'] \n",
    "\n",
    "# Define os preditores (removendo a variável resposta)\n",
    "# Removendo os dados faltantes de posse de bola\n",
    "X = df_dados.dropna(subset=['posse_de_bola']).drop(columns=['vitoria'])\n",
    "\n",
    "# Divide em treino (75%) e teste (25%)\n",
    "X_train, X_test, y_train, y_test = train_test_split(X, y, test_size = 0.25)\n",
    "\n",
    "# Treina os modelos\n",
    "logistica = LogisticRegression(penalty=None, # Nenhuma penalidade (Lasso/Ridge)\n",
    "                               solver='saga', max_iter=10000) # Parâmetros para não haver não convergência\n",
    "\n",
    "floresta = RandomForestClassifier(n_estimators=500) # 100 árvores\n",
    "\n",
    "logistica.fit(X_train, y_train)\n",
    "floresta.fit(X_train, y_train)"
   ]
  },
  {
   "cell_type": "markdown",
   "id": "61074893",
   "metadata": {},
   "source": [
    "* **Fazendo o gráfico de curva ROC:**"
   ]
  },
  {
   "cell_type": "markdown",
   "id": "c3700c65",
   "metadata": {},
   "source": [
    "A curva ROC permite avaliar o desempenho dos modelos de classificação, mostrando a relação entre a taxa de verdadeiros positivos e a taxa de falsos positivos. Já a AUC (Área sob a Curva) resume essa performance em um único valor, variando de 0,5 (modelo aleatório) até 1 (classificação perfeita) (ref). Ambos os modelos apresentaram resultados razoáveis e AUCs que indicam capacidade de classificação satisfatória."
   ]
  },
  {
   "cell_type": "code",
   "execution_count": 77,
   "id": "5e563109",
   "metadata": {},
   "outputs": [
    {
     "data": {
      "image/png": "[encoded data removed]",
      "text/plain": [
       "<Figure size 640x480 with 1 Axes>"
      ]
     },
     "metadata": {},
     "output_type": "display_data"
    }
   ],
   "source": [
    "from sklearn.metrics import roc_curve, roc_auc_score\n",
    "\n",
    "y_proba_logistica = logistica.predict_proba(X_test)[:, 1]\n",
    "y_proba_floresta = floresta.predict_proba(X_test)[:, 1]\n",
    "\n",
    "fpr_log, tpr_log, _ = roc_curve(y_test, y_proba_logistica)\n",
    "fpr_rf, tpr_rf, _ = roc_curve(y_test, y_proba_floresta)\n",
    "\n",
    "auc_log = roc_auc_score(y_test, y_proba_logistica)\n",
    "auc_rf = roc_auc_score(y_test, y_proba_floresta)\n",
    "\n",
    "# Gráfico\n",
    "plt.plot(fpr_log, tpr_log, label=f'Logística (AUC = {auc_log:.2f})')\n",
    "plt.plot(fpr_rf, tpr_rf, label=f'Floresta (AUC = {auc_rf:.2f})')\n",
    "plt.plot([0, 1], [0, 1], 'k--')\n",
    "plt.xlabel('FPR')\n",
    "plt.ylabel('TPR')\n",
    "plt.title('Curva ROC')\n",
    "plt.legend()\n",
    "plt.show()"
   ]
  },
  {
   "cell_type": "markdown",
   "id": "fe9f6749",
   "metadata": {},
   "source": [
    "* **Extraindo as 10 variáveis mais importantes para o modelo de Floresta Aleatória:**"
   ]
  },
  {
   "cell_type": "markdown",
   "id": "cc0924dd",
   "metadata": {},
   "source": [
    "A posse de bola do time foi a quinta variável de maior importância na predição da vitória segundo o modelo de Floresta Aleatória. Isso indica que a posse de bola contribui de forma relevante para explicar o resultado das partidas quando considerada junto a outras características do jogo."
   ]
  },
  {
   "cell_type": "code",
   "execution_count": 78,
   "id": "471e6daa",
   "metadata": {},
   "outputs": [
    {
     "data": {
      "image/png": "[encoded data removed]",
      "text/plain": [
       "<Figure size 1000x600 with 1 Axes>"
      ]
     },
     "metadata": {},
     "output_type": "display_data"
    }
   ],
   "source": [
    "# Importâncias das variáveis\n",
    "importances = floresta.feature_importances_\n",
    "features = X.columns\n",
    "\n",
    "# Cria DataFrame com as importâncias\n",
    "importancia_df = pd.DataFrame({\n",
    "    'variavel': features,\n",
    "    'importancia': importances\n",
    "}).sort_values(by='importancia', ascending=False)\n",
    "\n",
    "# Visualiza as 10 mais importantes\n",
    "plt.figure(figsize=(10, 6))\n",
    "sns.barplot(x='importancia', y='variavel', data=importancia_df.head(10))\n",
    "plt.title('Importância das Variáveis (Floresta)')\n",
    "plt.xlabel('Importância')\n",
    "plt.ylabel('Variável')\n",
    "plt.tight_layout()\n",
    "plt.show()"
   ]
  },
  {
   "cell_type": "markdown",
   "id": "943f97e1",
   "metadata": {},
   "source": [
    "* **Analisando o coeficiente da variável posse de bola**:"
   ]
  },
  {
   "cell_type": "markdown",
   "id": "45e85fe4",
   "metadata": {},
   "source": [
    "Estamos calculando $e^{0.05 \\cdot \\beta_{\\text{posse\\_}\\text{bola}}}$ que representa o fator multiplicativo na chance de vitória a cada aumento de 5 pontos percentuais na posse de bola. Um valor de aproximadamente 0,9974 indica que, nesse caso, um aumento de 5% na posse de bola está associado a uma pequena redução na chance de vitória, sugerindo que a posse de bola, por si só, não tem um efeito positivo relevante sobre o resultado da partida."
   ]
  },
  {
   "cell_type": "code",
   "execution_count": 79,
   "id": "d25a631b",
   "metadata": {},
   "outputs": [
    {
     "name": "stdout",
     "output_type": "stream",
     "text": [
      "[0.99690416]\n"
     ]
    }
   ],
   "source": [
    "posse_de_bola_coef = logistica.coef_[0][X_train.columns == 'posse_de_bola'] # Coeficientes das variável posse de bola\n",
    "\n",
    "print(np.exp(0.05*posse_de_bola_coef))"
   ]
  },
  {
   "cell_type": "markdown",
   "id": "42423a20",
   "metadata": {},
   "source": [
    "Para entender melhor o efeito da posse de bola na probabilidade de vencer a partida, será utilizada a técnica de ICE (Individual Conditional Expectation) para o modelo de floresta aleatória. O ICE permite visualizar como a predição do modelo muda conforme variamos o valor da posse de bola, mantendo as demais variáveis constantes para cada observação. Assim, conseguimos analisar o impacto individual da posse de bola sobre a chance de vitória, observando possíveis padrões (ref).\n",
    "\n",
    "Pode-se observar que a maioria das curvas tem um decaimento à medida que a posse de bola aumenta. No entanto, esse decaimento não é tão acentuado, indicando que, isoladamente, a posse de bola não é um fator determinante para o resultado da partida, embora possa ter algum impacto quando considerada em conjunto com outras variáveis."
   ]
  },
  {
   "cell_type": "code",
   "execution_count": 80,
   "id": "7654ea5e",
   "metadata": {},
   "outputs": [
    {
     "data": {
      "image/png": "[encoded data removed]",
      "text/plain": [
       "<Figure size 640x480 with 2 Axes>"
      ]
     },
     "metadata": {},
     "output_type": "display_data"
    }
   ],
   "source": [
    "from sklearn.inspection import PartialDependenceDisplay\n",
    "\n",
    "# Gráfico ICE\n",
    "PartialDependenceDisplay.from_estimator(\n",
    "    floresta,\n",
    "    X_test,\n",
    "    features=['posse_de_bola'],\n",
    "    kind='both',\n",
    "    subsample=50, # só irá mostrar 50 observações\n",
    "    grid_resolution=50\n",
    ")\n",
    "\n",
    "plt.title('Efeito da posse de bola na probabilidade de vitória')\n",
    "plt.tight_layout()\n",
    "plt.show()"
   ]
  },
  {
   "cell_type": "markdown",
   "id": "057e2123",
   "metadata": {},
   "source": [
    "Agora, será realizada uma análise preliminar com o objetivo de investigar se é real a vantagem dos times mandantes."
   ]
  },
  {
   "cell_type": "code",
   "execution_count": 82,
   "id": "444467db",
   "metadata": {},
   "outputs": [
    {
     "data": {
      "image/png": "[encoded data removed]",
      "text/plain": [
       "<Figure size 600x400 with 1 Axes>"
      ]
     },
     "metadata": {},
     "output_type": "display_data"
    }
   ],
   "source": [
    "# Cria uma coluna que indica se o vencedor é mandante ou visitante\n",
    "df_full['tipo_vencedor'] = df_full.apply(\n",
    "    lambda row: 'mandante' if row['vencedor'] == row['mandante']\n",
    "    else ('visitante' if row['vencedor'] == row['visitante'] else None),\n",
    "    axis=1\n",
    ")\n",
    "\n",
    "# Gráfico de barras\n",
    "plt.figure(figsize=(6, 4))\n",
    "sns.countplot(data=df_full[['tipo_vencedor']].dropna(), # Remove os empates\n",
    "               x='tipo_vencedor', hue = 'tipo_vencedor')\n",
    "\n",
    "plt.title('Quantidade de Vitórias por Tipo de Vencedor')\n",
    "plt.xlabel('Tipo de Vencedor')\n",
    "plt.ylabel('Número de Partidas')\n",
    "plt.tight_layout()\n",
    "plt.show()"
   ]
  },
  {
   "cell_type": "markdown",
   "id": "ac7ee079",
   "metadata": {},
   "source": [
    "O gráfico mostra que o número de vitórias dos mandantes é quase o dobro do número de vitórias dos visitantes. Isso sugere uma possível vantagem real de jogar em casa, o que pode estar relacionado a fatores como apoio da torcida, familiaridade com o estádio e menor desgaste físico.\n",
    "Dando continuidade à análise, repetiremos agora uma análise de forma similiar àquela que foi feita com a variável posse de bola. Para não perder uma parte significativa dos dados, optamos por substituir os valores faltantes da variável posse de bola por 50%, representando uma posse de bola neutra."
   ]
  },
  {
   "cell_type": "markdown",
   "id": "a21e8713",
   "metadata": {},
   "source": [
    "* **Substituindo dados faltantes**:"
   ]
  },
  {
   "cell_type": "code",
   "execution_count": null,
   "id": "ee80ce2f",
   "metadata": {},
   "outputs": [],
   "source": [
    "# Substituindo dados faltantes\n",
    "df_dados['posse_de_bola'] = df_dados['posse_de_bola'].fillna(0.5)"
   ]
  },
  {
   "cell_type": "markdown",
   "id": "7c927857",
   "metadata": {},
   "source": [
    "* **Ajustando os modelos:**"
   ]
  },
  {
   "cell_type": "code",
   "execution_count": 84,
   "id": "c81ce2a5",
   "metadata": {},
   "outputs": [
    {
     "data": {
      "text/html": [
       "<style>#sk-container-id-2 {\n",
       "  /* Definition of color scheme common for light and dark mode */\n",
       "  --sklearn-color-text: #000;\n",
       "  --sklearn-color-text-muted: #666;\n",
       "  --sklearn-color-line: gray;\n",
       "  /* Definition of color scheme for unfitted estimators */\n",
       "  --sklearn-color-unfitted-level-0: #fff5e6;\n",
       "  --sklearn-color-unfitted-level-1: #f6e4d2;\n",
       "  --sklearn-color-unfitted-level-2: #ffe0b3;\n",
       "  --sklearn-color-unfitted-level-3: chocolate;\n",
       "  /* Definition of color scheme for fitted estimators */\n",
       "  --sklearn-color-fitted-level-0: #f0f8ff;\n",
       "  --sklearn-color-fitted-level-1: #d4ebff;\n",
       "  --sklearn-color-fitted-level-2: #b3dbfd;\n",
       "  --sklearn-color-fitted-level-3: cornflowerblue;\n",
       "\n",
       "  /* Specific color for light theme */\n",
       "  --sklearn-color-text-on-default-background: var(--sg-text-color, var(--theme-code-foreground, var(--jp-content-font-color1, black)));\n",
       "  --sklearn-color-background: var(--sg-background-color, var(--theme-background, var(--jp-layout-color0, white)));\n",
       "  --sklearn-color-border-box: var(--sg-text-color, var(--theme-code-foreground, var(--jp-content-font-color1, black)));\n",
       "  --sklearn-color-icon: #696969;\n",
       "\n",
       "  @media (prefers-color-scheme: dark) {\n",
       "    /* Redefinition of color scheme for dark theme */\n",
       "    --sklearn-color-text-on-default-background: var(--sg-text-color, var(--theme-code-foreground, var(--jp-content-font-color1, white)));\n",
       "    --sklearn-color-background: var(--sg-background-color, var(--theme-background, var(--jp-layout-color0, #111)));\n",
       "    --sklearn-color-border-box: var(--sg-text-color, var(--theme-code-foreground, var(--jp-content-font-color1, white)));\n",
       "    --sklearn-color-icon: #878787;\n",
       "  }\n",
       "}\n",
       "\n",
       "#sk-container-id-2 {\n",
       "  color: var(--sklearn-color-text);\n",
       "}\n",
       "\n",
       "#sk-container-id-2 pre {\n",
       "  padding: 0;\n",
       "}\n",
       "\n",
       "#sk-container-id-2 input.sk-hidden--visually {\n",
       "  border: 0;\n",
       "  clip: rect(1px 1px 1px 1px);\n",
       "  clip: rect(1px, 1px, 1px, 1px);\n",
       "  height: 1px;\n",
       "  margin: -1px;\n",
       "  overflow: hidden;\n",
       "  padding: 0;\n",
       "  position: absolute;\n",
       "  width: 1px;\n",
       "}\n",
       "\n",
       "#sk-container-id-2 div.sk-dashed-wrapped {\n",
       "  border: 1px dashed var(--sklearn-color-line);\n",
       "  margin: 0 0.4em 0.5em 0.4em;\n",
       "  box-sizing: border-box;\n",
       "  padding-bottom: 0.4em;\n",
       "  background-color: var(--sklearn-color-background);\n",
       "}\n",
       "\n",
       "#sk-container-id-2 div.sk-container {\n",
       "  /* jupyter's `normalize.less` sets `[hidden] { display: none; }`\n",
       "     but bootstrap.min.css set `[hidden] { display: none !important; }`\n",
       "     so we also need the `!important` here to be able to override the\n",
       "     default hidden behavior on the sphinx rendered scikit-learn.org.\n",
       "     See: https://github.com/scikit-learn/scikit-learn/issues/21755 */\n",
       "  display: inline-block !important;\n",
       "  position: relative;\n",
       "}\n",
       "\n",
       "#sk-container-id-2 div.sk-text-repr-fallback {\n",
       "  display: none;\n",
       "}\n",
       "\n",
       "div.sk-parallel-item,\n",
       "div.sk-serial,\n",
       "div.sk-item {\n",
       "  /* draw centered vertical line to link estimators */\n",
       "  background-image: linear-gradient(var(--sklearn-color-text-on-default-background), var(--sklearn-color-text-on-default-background));\n",
       "  background-size: 2px 100%;\n",
       "  background-repeat: no-repeat;\n",
       "  background-position: center center;\n",
       "}\n",
       "\n",
       "/* Parallel-specific style estimator block */\n",
       "\n",
       "#sk-container-id-2 div.sk-parallel-item::after {\n",
       "  content: \"\";\n",
       "  width: 100%;\n",
       "  border-bottom: 2px solid var(--sklearn-color-text-on-default-background);\n",
       "  flex-grow: 1;\n",
       "}\n",
       "\n",
       "#sk-container-id-2 div.sk-parallel {\n",
       "  display: flex;\n",
       "  align-items: stretch;\n",
       "  justify-content: center;\n",
       "  background-color: var(--sklearn-color-background);\n",
       "  position: relative;\n",
       "}\n",
       "\n",
       "#sk-container-id-2 div.sk-parallel-item {\n",
       "  display: flex;\n",
       "  flex-direction: column;\n",
       "}\n",
       "\n",
       "#sk-container-id-2 div.sk-parallel-item:first-child::after {\n",
       "  align-self: flex-end;\n",
       "  width: 50%;\n",
       "}\n",
       "\n",
       "#sk-container-id-2 div.sk-parallel-item:last-child::after {\n",
       "  align-self: flex-start;\n",
       "  width: 50%;\n",
       "}\n",
       "\n",
       "#sk-container-id-2 div.sk-parallel-item:only-child::after {\n",
       "  width: 0;\n",
       "}\n",
       "\n",
       "/* Serial-specific style estimator block */\n",
       "\n",
       "#sk-container-id-2 div.sk-serial {\n",
       "  display: flex;\n",
       "  flex-direction: column;\n",
       "  align-items: center;\n",
       "  background-color: var(--sklearn-color-background);\n",
       "  padding-right: 1em;\n",
       "  padding-left: 1em;\n",
       "}\n",
       "\n",
       "\n",
       "/* Toggleable style: style used for estimator/Pipeline/ColumnTransformer box that is\n",
       "clickable and can be expanded/collapsed.\n",
       "- Pipeline and ColumnTransformer use this feature and define the default style\n",
       "- Estimators will overwrite some part of the style using the `sk-estimator` class\n",
       "*/\n",
       "\n",
       "/* Pipeline and ColumnTransformer style (default) */\n",
       "\n",
       "#sk-container-id-2 div.sk-toggleable {\n",
       "  /* Default theme specific background. It is overwritten whether we have a\n",
       "  specific estimator or a Pipeline/ColumnTransformer */\n",
       "  background-color: var(--sklearn-color-background);\n",
       "}\n",
       "\n",
       "/* Toggleable label */\n",
       "#sk-container-id-2 label.sk-toggleable__label {\n",
       "  cursor: pointer;\n",
       "  display: flex;\n",
       "  width: 100%;\n",
       "  margin-bottom: 0;\n",
       "  padding: 0.5em;\n",
       "  box-sizing: border-box;\n",
       "  text-align: center;\n",
       "  align-items: start;\n",
       "  justify-content: space-between;\n",
       "  gap: 0.5em;\n",
       "}\n",
       "\n",
       "#sk-container-id-2 label.sk-toggleable__label .caption {\n",
       "  font-size: 0.6rem;\n",
       "  font-weight: lighter;\n",
       "  color: var(--sklearn-color-text-muted);\n",
       "}\n",
       "\n",
       "#sk-container-id-2 label.sk-toggleable__label-arrow:before {\n",
       "  /* Arrow on the left of the label */\n",
       "  content: \"▸\";\n",
       "  float: left;\n",
       "  margin-right: 0.25em;\n",
       "  color: var(--sklearn-color-icon);\n",
       "}\n",
       "\n",
       "#sk-container-id-2 label.sk-toggleable__label-arrow:hover:before {\n",
       "  color: var(--sklearn-color-text);\n",
       "}\n",
       "\n",
       "/* Toggleable content - dropdown */\n",
       "\n",
       "#sk-container-id-2 div.sk-toggleable__content {\n",
       "  max-height: 0;\n",
       "  max-width: 0;\n",
       "  overflow: hidden;\n",
       "  text-align: left;\n",
       "  /* unfitted */\n",
       "  background-color: var(--sklearn-color-unfitted-level-0);\n",
       "}\n",
       "\n",
       "#sk-container-id-2 div.sk-toggleable__content.fitted {\n",
       "  /* fitted */\n",
       "  background-color: var(--sklearn-color-fitted-level-0);\n",
       "}\n",
       "\n",
       "#sk-container-id-2 div.sk-toggleable__content pre {\n",
       "  margin: 0.2em;\n",
       "  border-radius: 0.25em;\n",
       "  color: var(--sklearn-color-text);\n",
       "  /* unfitted */\n",
       "  background-color: var(--sklearn-color-unfitted-level-0);\n",
       "}\n",
       "\n",
       "#sk-container-id-2 div.sk-toggleable__content.fitted pre {\n",
       "  /* unfitted */\n",
       "  background-color: var(--sklearn-color-fitted-level-0);\n",
       "}\n",
       "\n",
       "#sk-container-id-2 input.sk-toggleable__control:checked~div.sk-toggleable__content {\n",
       "  /* Expand drop-down */\n",
       "  max-height: 200px;\n",
       "  max-width: 100%;\n",
       "  overflow: auto;\n",
       "}\n",
       "\n",
       "#sk-container-id-2 input.sk-toggleable__control:checked~label.sk-toggleable__label-arrow:before {\n",
       "  content: \"▾\";\n",
       "}\n",
       "\n",
       "/* Pipeline/ColumnTransformer-specific style */\n",
       "\n",
       "#sk-container-id-2 div.sk-label input.sk-toggleable__control:checked~label.sk-toggleable__label {\n",
       "  color: var(--sklearn-color-text);\n",
       "  background-color: var(--sklearn-color-unfitted-level-2);\n",
       "}\n",
       "\n",
       "#sk-container-id-2 div.sk-label.fitted input.sk-toggleable__control:checked~label.sk-toggleable__label {\n",
       "  background-color: var(--sklearn-color-fitted-level-2);\n",
       "}\n",
       "\n",
       "/* Estimator-specific style */\n",
       "\n",
       "/* Colorize estimator box */\n",
       "#sk-container-id-2 div.sk-estimator input.sk-toggleable__control:checked~label.sk-toggleable__label {\n",
       "  /* unfitted */\n",
       "  background-color: var(--sklearn-color-unfitted-level-2);\n",
       "}\n",
       "\n",
       "#sk-container-id-2 div.sk-estimator.fitted input.sk-toggleable__control:checked~label.sk-toggleable__label {\n",
       "  /* fitted */\n",
       "  background-color: var(--sklearn-color-fitted-level-2);\n",
       "}\n",
       "\n",
       "#sk-container-id-2 div.sk-label label.sk-toggleable__label,\n",
       "#sk-container-id-2 div.sk-label label {\n",
       "  /* The background is the default theme color */\n",
       "  color: var(--sklearn-color-text-on-default-background);\n",
       "}\n",
       "\n",
       "/* On hover, darken the color of the background */\n",
       "#sk-container-id-2 div.sk-label:hover label.sk-toggleable__label {\n",
       "  color: var(--sklearn-color-text);\n",
       "  background-color: var(--sklearn-color-unfitted-level-2);\n",
       "}\n",
       "\n",
       "/* Label box, darken color on hover, fitted */\n",
       "#sk-container-id-2 div.sk-label.fitted:hover label.sk-toggleable__label.fitted {\n",
       "  color: var(--sklearn-color-text);\n",
       "  background-color: var(--sklearn-color-fitted-level-2);\n",
       "}\n",
       "\n",
       "/* Estimator label */\n",
       "\n",
       "#sk-container-id-2 div.sk-label label {\n",
       "  font-family: monospace;\n",
       "  font-weight: bold;\n",
       "  display: inline-block;\n",
       "  line-height: 1.2em;\n",
       "}\n",
       "\n",
       "#sk-container-id-2 div.sk-label-container {\n",
       "  text-align: center;\n",
       "}\n",
       "\n",
       "/* Estimator-specific */\n",
       "#sk-container-id-2 div.sk-estimator {\n",
       "  font-family: monospace;\n",
       "  border: 1px dotted var(--sklearn-color-border-box);\n",
       "  border-radius: 0.25em;\n",
       "  box-sizing: border-box;\n",
       "  margin-bottom: 0.5em;\n",
       "  /* unfitted */\n",
       "  background-color: var(--sklearn-color-unfitted-level-0);\n",
       "}\n",
       "\n",
       "#sk-container-id-2 div.sk-estimator.fitted {\n",
       "  /* fitted */\n",
       "  background-color: var(--sklearn-color-fitted-level-0);\n",
       "}\n",
       "\n",
       "/* on hover */\n",
       "#sk-container-id-2 div.sk-estimator:hover {\n",
       "  /* unfitted */\n",
       "  background-color: var(--sklearn-color-unfitted-level-2);\n",
       "}\n",
       "\n",
       "#sk-container-id-2 div.sk-estimator.fitted:hover {\n",
       "  /* fitted */\n",
       "  background-color: var(--sklearn-color-fitted-level-2);\n",
       "}\n",
       "\n",
       "/* Specification for estimator info (e.g. \"i\" and \"?\") */\n",
       "\n",
       "/* Common style for \"i\" and \"?\" */\n",
       "\n",
       ".sk-estimator-doc-link,\n",
       "a:link.sk-estimator-doc-link,\n",
       "a:visited.sk-estimator-doc-link {\n",
       "  float: right;\n",
       "  font-size: smaller;\n",
       "  line-height: 1em;\n",
       "  font-family: monospace;\n",
       "  background-color: var(--sklearn-color-background);\n",
       "  border-radius: 1em;\n",
       "  height: 1em;\n",
       "  width: 1em;\n",
       "  text-decoration: none !important;\n",
       "  margin-left: 0.5em;\n",
       "  text-align: center;\n",
       "  /* unfitted */\n",
       "  border: var(--sklearn-color-unfitted-level-1) 1pt solid;\n",
       "  color: var(--sklearn-color-unfitted-level-1);\n",
       "}\n",
       "\n",
       ".sk-estimator-doc-link.fitted,\n",
       "a:link.sk-estimator-doc-link.fitted,\n",
       "a:visited.sk-estimator-doc-link.fitted {\n",
       "  /* fitted */\n",
       "  border: var(--sklearn-color-fitted-level-1) 1pt solid;\n",
       "  color: var(--sklearn-color-fitted-level-1);\n",
       "}\n",
       "\n",
       "/* On hover */\n",
       "div.sk-estimator:hover .sk-estimator-doc-link:hover,\n",
       ".sk-estimator-doc-link:hover,\n",
       "div.sk-label-container:hover .sk-estimator-doc-link:hover,\n",
       ".sk-estimator-doc-link:hover {\n",
       "  /* unfitted */\n",
       "  background-color: var(--sklearn-color-unfitted-level-3);\n",
       "  color: var(--sklearn-color-background);\n",
       "  text-decoration: none;\n",
       "}\n",
       "\n",
       "div.sk-estimator.fitted:hover .sk-estimator-doc-link.fitted:hover,\n",
       ".sk-estimator-doc-link.fitted:hover,\n",
       "div.sk-label-container:hover .sk-estimator-doc-link.fitted:hover,\n",
       ".sk-estimator-doc-link.fitted:hover {\n",
       "  /* fitted */\n",
       "  background-color: var(--sklearn-color-fitted-level-3);\n",
       "  color: var(--sklearn-color-background);\n",
       "  text-decoration: none;\n",
       "}\n",
       "\n",
       "/* Span, style for the box shown on hovering the info icon */\n",
       ".sk-estimator-doc-link span {\n",
       "  display: none;\n",
       "  z-index: 9999;\n",
       "  position: relative;\n",
       "  font-weight: normal;\n",
       "  right: .2ex;\n",
       "  padding: .5ex;\n",
       "  margin: .5ex;\n",
       "  width: min-content;\n",
       "  min-width: 20ex;\n",
       "  max-width: 50ex;\n",
       "  color: var(--sklearn-color-text);\n",
       "  box-shadow: 2pt 2pt 4pt #999;\n",
       "  /* unfitted */\n",
       "  background: var(--sklearn-color-unfitted-level-0);\n",
       "  border: .5pt solid var(--sklearn-color-unfitted-level-3);\n",
       "}\n",
       "\n",
       ".sk-estimator-doc-link.fitted span {\n",
       "  /* fitted */\n",
       "  background: var(--sklearn-color-fitted-level-0);\n",
       "  border: var(--sklearn-color-fitted-level-3);\n",
       "}\n",
       "\n",
       ".sk-estimator-doc-link:hover span {\n",
       "  display: block;\n",
       "}\n",
       "\n",
       "/* \"?\"-specific style due to the `<a>` HTML tag */\n",
       "\n",
       "#sk-container-id-2 a.estimator_doc_link {\n",
       "  float: right;\n",
       "  font-size: 1rem;\n",
       "  line-height: 1em;\n",
       "  font-family: monospace;\n",
       "  background-color: var(--sklearn-color-background);\n",
       "  border-radius: 1rem;\n",
       "  height: 1rem;\n",
       "  width: 1rem;\n",
       "  text-decoration: none;\n",
       "  /* unfitted */\n",
       "  color: var(--sklearn-color-unfitted-level-1);\n",
       "  border: var(--sklearn-color-unfitted-level-1) 1pt solid;\n",
       "}\n",
       "\n",
       "#sk-container-id-2 a.estimator_doc_link.fitted {\n",
       "  /* fitted */\n",
       "  border: var(--sklearn-color-fitted-level-1) 1pt solid;\n",
       "  color: var(--sklearn-color-fitted-level-1);\n",
       "}\n",
       "\n",
       "/* On hover */\n",
       "#sk-container-id-2 a.estimator_doc_link:hover {\n",
       "  /* unfitted */\n",
       "  background-color: var(--sklearn-color-unfitted-level-3);\n",
       "  color: var(--sklearn-color-background);\n",
       "  text-decoration: none;\n",
       "}\n",
       "\n",
       "#sk-container-id-2 a.estimator_doc_link.fitted:hover {\n",
       "  /* fitted */\n",
       "  background-color: var(--sklearn-color-fitted-level-3);\n",
       "}\n",
       "</style><div id=\"sk-container-id-2\" class=\"sk-top-container\"><div class=\"sk-text-repr-fallback\"><pre>RandomForestClassifier(n_estimators=500)</pre><b>In a Jupyter environment, please rerun this cell to show the HTML representation or trust the notebook. <br />On GitHub, the HTML representation is unable to render, please try loading this page with nbviewer.org.</b></div><div class=\"sk-container\" hidden><div class=\"sk-item\"><div class=\"sk-estimator fitted sk-toggleable\"><input class=\"sk-toggleable__control sk-hidden--visually\" id=\"sk-estimator-id-2\" type=\"checkbox\" checked><label for=\"sk-estimator-id-2\" class=\"sk-toggleable__label fitted sk-toggleable__label-arrow\"><div><div>RandomForestClassifier</div></div><div><a class=\"sk-estimator-doc-link fitted\" rel=\"noreferrer\" target=\"_blank\" href=\"https://scikit-learn.org/1.6/modules/generated/sklearn.ensemble.RandomForestClassifier.html\">?<span>Documentation for RandomForestClassifier</span></a><span class=\"sk-estimator-doc-link fitted\">i<span>Fitted</span></span></div></label><div class=\"sk-toggleable__content fitted\"><pre>RandomForestClassifier(n_estimators=500)</pre></div> </div></div></div></div>"
      ],
      "text/plain": [
       "RandomForestClassifier(n_estimators=500)"
      ]
     },
     "execution_count": 84,
     "metadata": {},
     "output_type": "execute_result"
    }
   ],
   "source": [
    "from sklearn.model_selection import train_test_split\n",
    "from sklearn.linear_model import LogisticRegression\n",
    "from sklearn.ensemble import RandomForestClassifier\n",
    "from sklearn.pipeline import make_pipeline\n",
    "from sklearn.preprocessing import StandardScaler\n",
    "\n",
    "# Remove os dados faltantes de posse de bola\n",
    "\n",
    "# Define a variável resposta\n",
    "y = df_dados['vitoria'] \n",
    "\n",
    "# Define os preditores (removendo a variável resposta)\n",
    "X = df_dados.drop(columns=['vitoria'])\n",
    "\n",
    "# Divide em treino (75%) e teste (25%)\n",
    "X_train, X_test, y_train, y_test = train_test_split(X, y, test_size = 0.25)\n",
    "\n",
    "# Treina os modelos\n",
    "logistica = LogisticRegression(penalty=None, # Nenhuma penalidade (Lasso/Ridge)\n",
    "                               solver='saga', max_iter=10000) # Parâmetros para não haver não convergência\n",
    "\n",
    "floresta = RandomForestClassifier(n_estimators=500) # 100 árvores\n",
    "\n",
    "logistica.fit(X_train, y_train)\n",
    "floresta.fit(X_train, y_train)"
   ]
  },
  {
   "cell_type": "markdown",
   "id": "c3b0d9cb",
   "metadata": {},
   "source": [
    "* **Fazendo o gráfico de curva ROC:**"
   ]
  },
  {
   "cell_type": "markdown",
   "id": "920805b3",
   "metadata": {},
   "source": [
    "Novamente ambos os modelos apresentaram resultados razoáveis e muito similares e AUCs que indicam capacidade de classificação satisfatória."
   ]
  },
  {
   "cell_type": "code",
   "execution_count": 85,
   "id": "a05966d9",
   "metadata": {},
   "outputs": [
    {
     "data": {
      "image/png": "[encoded data removed]",
      "text/plain": [
       "<Figure size 640x480 with 1 Axes>"
      ]
     },
     "metadata": {},
     "output_type": "display_data"
    }
   ],
   "source": [
    "from sklearn.metrics import roc_curve, roc_auc_score\n",
    "\n",
    "y_proba_logistica = logistica.predict_proba(X_test)[:, 1]\n",
    "y_proba_floresta = floresta.predict_proba(X_test)[:, 1]\n",
    "\n",
    "fpr_log, tpr_log, _ = roc_curve(y_test, y_proba_logistica)\n",
    "fpr_rf, tpr_rf, _ = roc_curve(y_test, y_proba_floresta)\n",
    "\n",
    "auc_log = roc_auc_score(y_test, y_proba_logistica)\n",
    "auc_rf = roc_auc_score(y_test, y_proba_floresta)\n",
    "\n",
    "# Gráfico\n",
    "plt.plot(fpr_log, tpr_log, label=f'Logística (AUC = {auc_log:.2f})')\n",
    "plt.plot(fpr_rf, tpr_rf, label=f'Floresta (AUC = {auc_rf:.2f})')\n",
    "plt.plot([0, 1], [0, 1], 'k--')\n",
    "plt.xlabel('FPR')\n",
    "plt.ylabel('TPR')\n",
    "plt.title('Curva ROC')\n",
    "plt.legend()\n",
    "plt.show()"
   ]
  },
  {
   "cell_type": "markdown",
   "id": "e7685e08",
   "metadata": {},
   "source": [
    "* **Extraindo as 10 variáveis mais importantes para o modelo de Floresta Aleatória:**"
   ]
  },
  {
   "cell_type": "markdown",
   "id": "3315e203",
   "metadata": {},
   "source": [
    "A caracteristica de ser mandante foi a oitava variável de maior importância na predição da vitória segundo o modelo de Floresta Aleatória. Isso indica que essa característica é razoavelmente relevante para explicar o resultado das partidas quando considerada junto a outras características do jogo."
   ]
  },
  {
   "cell_type": "code",
   "execution_count": 86,
   "id": "7d14959d",
   "metadata": {},
   "outputs": [
    {
     "data": {
      "image/png": "[encoded data removed]",
      "text/plain": [
       "<Figure size 1000x600 with 1 Axes>"
      ]
     },
     "metadata": {},
     "output_type": "display_data"
    }
   ],
   "source": [
    "# Importâncias das variáveis\n",
    "importances = floresta.feature_importances_\n",
    "features = X.columns\n",
    "\n",
    "# Cria DataFrame com as importâncias\n",
    "importancia_df = pd.DataFrame({\n",
    "    'variavel': features,\n",
    "    'importancia': importances\n",
    "}).sort_values(by='importancia', ascending=False)\n",
    "\n",
    "# Visualiza as 10 mais importantes\n",
    "plt.figure(figsize=(10, 6))\n",
    "sns.barplot(x='importancia', y='variavel', data=importancia_df.head(10))\n",
    "plt.title('Importância das Variáveis (Floresta)')\n",
    "plt.xlabel('Importância')\n",
    "plt.ylabel('Variável')\n",
    "plt.tight_layout()\n",
    "plt.show()"
   ]
  },
  {
   "cell_type": "markdown",
   "id": "246ba9dc",
   "metadata": {},
   "source": [
    "* **Analisando o coeficiente da variável posse de bola**:"
   ]
  },
  {
   "cell_type": "markdown",
   "id": "66af8907",
   "metadata": {},
   "source": [
    "Estamos calculando $e^{\\beta_{\\text{mandante}}}$ que representa o fator multiplicativo na chance de vitória quando o time é mandante. Um valor de aproximadamente 2,4504 indica que ao jogar em casa, a chance de vitória do time é cerca de 2,45 vezes maior do que quando joga como visitante. Concluindo que o fato de o time ser mandante aumenta consideravelmente sua chance de vitória."
   ]
  },
  {
   "cell_type": "code",
   "execution_count": 87,
   "id": "7c1146e7",
   "metadata": {},
   "outputs": [
    {
     "name": "stdout",
     "output_type": "stream",
     "text": [
      "[2.54048665]\n"
     ]
    }
   ],
   "source": [
    "mandante_coef = logistica.coef_[0][X_train.columns == 'mandante'] # Coeficiente das variável mandante\n",
    "\n",
    "print(np.exp(mandante_coef))"
   ]
  },
  {
   "cell_type": "markdown",
   "id": "a1dd6e60",
   "metadata": {},
   "source": [
    "Por fim, agora será feita uma análise final de todos os outro fatores "
   ]
  }
 ],
 "metadata": {
  "kernelspec": {
   "display_name": "desafio-tecnico",
   "language": "python",
   "name": "python3"
  },
  "language_info": {
   "codemirror_mode": {
    "name": "ipython",
    "version": 3
   },
   "file_extension": ".py",
   "mimetype": "text/x-python",
   "name": "python",
   "nbconvert_exporter": "python",
   "pygments_lexer": "ipython3",
   "version": "3.12.11"
  }
 },
 "nbformat": 4,
 "nbformat_minor": 5
}
